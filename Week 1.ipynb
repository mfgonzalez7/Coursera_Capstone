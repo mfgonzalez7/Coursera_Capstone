{
 "cells": [
  {
   "cell_type": "markdown",
   "metadata": {},
   "source": [
    "## Introduction/Business Problem\n",
    "Today, people who live in the city can find around the corner many places to buy different types of products. The growing commercialization of certain neighborhoods has generated high levels of competition among store owners, having to \"fight\" to seduce customers based on discounts and promotions.\n",
    "In the particular case of liquor stores and bars, the high demand from the Chilean population has generated an explosive increase in the number of franchises, liquor stores and bars. However, many times an incoming company is not able to withstand the price competition that exists between firms with greater capital backing and customer loyalty, so they have to quit the business.\n",
    "That is why the problem to be addressed is how to identify in which area it is convenient to install a liquor store, so as not to compete directly with other companies or supermarkets that offer the same type of products. For this, the commune of Las Condes, located in the eastern part of Santiago de Chile, a commune of upper middle class and with high rates of consumption of alcoholic beverages will be used as a base.\n",
    "To determine the best place, it will be evaluated how many stores of this type exist in the surrounding area.\n",
    "This tool will be very useful for entrepreneurs who wish to start in the field of selling liquors or other types of products, in which case the difference lies only in the venues filter that is made."
   ]
  },
  {
   "cell_type": "markdown",
   "metadata": {},
   "source": [
    "## Needed Data"
   ]
  },
  {
   "cell_type": "markdown",
   "metadata": {},
   "source": [
    "To solve this problem, we only need the reference information on the different neighborhoods of the Las Condes commune. Being a territory of about 100 km2, it will be divided into 26 neighborhoods representative of the different configurations in terms of infrastructure, commerce and land use.\n",
    "Once the above is ready, the Foursquare API will help us to obtain both the latitude and longitude of these points and, in turn, the points of sale of liquors and bars existing in the vicinity of each one.\n",
    "In this case, I will use the division proposed in the municipality of Las Condes for the allocation of state benefits, consisting of 26 districts.\n",
    "In short, using the points that represent each district, Foursquare will give me its latitude and longitude. After that, it will help me find the number of bars and liquor stores within a radius of 800 meters from that point (which is considered a walkable distance for access).\n",
    "This process will be carried out for each of the 26 neighborhoods and based on this, the clustering will be carried out to identify it as a \"collapsed\", \"normal\" or \"free\" neighborhood of liquor stores."
   ]
  },
  {
   "cell_type": "code",
   "execution_count": null,
   "metadata": {},
   "outputs": [],
   "source": []
  }
 ],
 "metadata": {
  "kernelspec": {
   "display_name": "Python 3",
   "language": "python",
   "name": "python3"
  },
  "language_info": {
   "codemirror_mode": {
    "name": "ipython",
    "version": 3
   },
   "file_extension": ".py",
   "mimetype": "text/x-python",
   "name": "python",
   "nbconvert_exporter": "python",
   "pygments_lexer": "ipython3",
   "version": "3.7.3"
  }
 },
 "nbformat": 4,
 "nbformat_minor": 2
}
