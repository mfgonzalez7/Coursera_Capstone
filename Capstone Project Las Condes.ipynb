{
 "cells": [
  {
   "cell_type": "markdown",
   "metadata": {},
   "source": [
    "# Capstone Project - The Battle of the Neighborhoods (Week 2)\n",
    "### Applied Data Science Capstone by IBM/Coursera\n",
    "#### Maximiliano Gonzalez Reynals"
   ]
  },
  {
   "cell_type": "markdown",
   "metadata": {},
   "source": [
    "## Table of contents\n",
    "* [Introduction: Business Problem](#introduction)\n",
    "* [Data](#data)\n",
    "* [Methodology](#methodology)\n",
    "* [Analysis](#analysis)\n",
    "* [Results and Discussion](#results)\n",
    "* [Conclusion](#conclusion)"
   ]
  },
  {
   "cell_type": "markdown",
   "metadata": {},
   "source": [
    "## Introduction: Business Problem <a name=\"introduction\"></a>"
   ]
  },
  {
   "cell_type": "markdown",
   "metadata": {},
   "source": [
    "In this project we will try to find an optimal location for a liquor store. Specifically, this report will be targeted to stakeholders interested in opening an **Liquor Store** or a **Bar** in **Las Condes**, Santiago, Chile.\n",
    "\n",
    "In Santiago, it is very common for people to go out to eat and then party to a house or even to a disco. This happens especially between Thursday and Sunday, to the point that in liquor stores you can see long lines waiting to buy.\n",
    "\n",
    "Since there are many restaurants, liquor stores and bars in Santiago, we will try to detect **places belonging to the Las Condes commune whose ratio between alcohol outlets and restaurants is low**. In this way, strategic points will be established where it would be convenient to open a liquor store or a bar, in order to take advantage of the high floating population looking for a night out with friends or family.\n",
    "\n",
    "We will use our data science tools to find some of the most promising neighborhoods based on this criteria. The characteristics, pros and cons of each area will be clearly stated so that interested parties can choose the best possible final location based on their preferences."
   ]
  },
  {
   "cell_type": "markdown",
   "metadata": {},
   "source": [
    "## Data <a name=\"data\"></a>"
   ]
  },
  {
   "cell_type": "markdown",
   "metadata": {},
   "source": [
    "Based on definition of our problem, factors that will influence our decission are:\n",
    "* number of existing restaurants within a radius of 800 meters from the predefined center of the neighborhood (any type of restaurant)\n",
    "* number of liquor points of sale (bars, supermarkets, liquor stores, among others) in the same distance range\n",
    "\n",
    "\n",
    "We decided to use a sectorization based on community centers belonging to the Municipality of Las Condes, information regarding land use and my knowledge of the commune from having lived all my life in it.\n",
    "\n",
    "Following data sources will be needed to extract/generate the required information:\n",
    "* The center of each zone will be determined based on the sectorization proposed by the Las Condes mayor's office and the coordinates were obtained through the page https://www.mapcoordinates.net/es\n",
    "* number of restaurants and their type and location in every neighborhood will be obtained using **Foursquare API**\n",
    "* The number of bars, alcohol outlets and their location in each neighborhood will be obtained using **Foursquare API**"
   ]
  },
  {
   "cell_type": "markdown",
   "metadata": {},
   "source": [
    "First of all, we import all the necessary libraries"
   ]
  },
  {
   "cell_type": "code",
   "execution_count": 4,
   "metadata": {},
   "outputs": [],
   "source": [
    "import pandas as pd\n",
    "import numpy as np\n",
    "import json \n",
    "from geopy.geocoders import Nominatim\n",
    "import requests \n",
    "import matplotlib.cm as cm\n",
    "import matplotlib.colors as colors\n",
    "from sklearn.cluster import KMeans\n",
    "import folium \n",
    "import matplotlib\n",
    "#matplotlib.style.use('ggplot')\n",
    "import matplotlib.pyplot as plt\n",
    "from folium import plugins\n",
    "from folium.plugins import HeatMap"
   ]
  },
  {
   "cell_type": "markdown",
   "metadata": {},
   "source": [
    "The 26 candidate areas and their geographic coordinates obtained by the aforementioned platform are delivered directly through a dictionary and transformed into a data frame."
   ]
  },
  {
   "cell_type": "code",
   "execution_count": 5,
   "metadata": {},
   "outputs": [
    {
     "data": {
      "text/html": [
       "<div>\n",
       "<style scoped>\n",
       "    .dataframe tbody tr th:only-of-type {\n",
       "        vertical-align: middle;\n",
       "    }\n",
       "\n",
       "    .dataframe tbody tr th {\n",
       "        vertical-align: top;\n",
       "    }\n",
       "\n",
       "    .dataframe thead th {\n",
       "        text-align: right;\n",
       "    }\n",
       "</style>\n",
       "<table border=\"1\" class=\"dataframe\">\n",
       "  <thead>\n",
       "    <tr style=\"text-align: right;\">\n",
       "      <th></th>\n",
       "      <th>Neighborhood</th>\n",
       "      <th>Latitude</th>\n",
       "      <th>Longitude</th>\n",
       "    </tr>\n",
       "  </thead>\n",
       "  <tbody>\n",
       "    <tr>\n",
       "      <th>0</th>\n",
       "      <td>El Golf</td>\n",
       "      <td>-33.41351</td>\n",
       "      <td>-70.59865</td>\n",
       "    </tr>\n",
       "    <tr>\n",
       "      <th>1</th>\n",
       "      <td>Alcantara</td>\n",
       "      <td>-33.42049</td>\n",
       "      <td>-70.58826</td>\n",
       "    </tr>\n",
       "    <tr>\n",
       "      <th>2</th>\n",
       "      <td>Vaticano</td>\n",
       "      <td>-33.42700</td>\n",
       "      <td>-70.58270</td>\n",
       "    </tr>\n",
       "    <tr>\n",
       "      <th>3</th>\n",
       "      <td>Plaza La Concordia</td>\n",
       "      <td>-33.42805</td>\n",
       "      <td>-70.56973</td>\n",
       "    </tr>\n",
       "    <tr>\n",
       "      <th>4</th>\n",
       "      <td>Sebastian Elcano Central</td>\n",
       "      <td>-33.42126</td>\n",
       "      <td>-70.57082</td>\n",
       "    </tr>\n",
       "  </tbody>\n",
       "</table>\n",
       "</div>"
      ],
      "text/plain": [
       "               Neighborhood  Latitude  Longitude\n",
       "0                   El Golf -33.41351  -70.59865\n",
       "1                 Alcantara -33.42049  -70.58826\n",
       "2                  Vaticano -33.42700  -70.58270\n",
       "3        Plaza La Concordia -33.42805  -70.56973\n",
       "4  Sebastian Elcano Central -33.42126  -70.57082"
      ]
     },
     "execution_count": 5,
     "metadata": {},
     "output_type": "execute_result"
    }
   ],
   "source": [
    "data = {'Neighborhood': ['El Golf','Alcantara','Vaticano','Plaza La Concordia','Sebastian Elcano Central','Plaza del Inca','Alonso de Cordova','Parque Araucano','Latadia','Alonso de Camargo','Rotonda Atenas','Presidente Riesco','Padre Errazuriz','Roncesvalles','Alto Las Condes','Los Dominicos','Charles Hamilton','Rio Guadiana','Padre Hurtado Sur','Vital Apoquindo','San Carlos de Apoquindo sur','San Carlos de Apoquindo','San Carlos de Apoquindo norte','Estoril','Los Frailes','Quinchamali','Camino el Alba'], 'Latitude': [-33.41351,-33.42049,-33.42700,-33.42805,-33.42126,-33.41328,-33.40692,-33.40248,-33.42701,-33.42135,-33.41802,-33.39635,-33.40369,-33.41246,-33.39075,-33.40799,-33.38528,-33.41191,-33.42283,-33.41879,-33.40761,-33.39561,-33.38751,-33.38601,-33.37630,-33.37002,-33.40113], 'Longitude': [-70.59865,-70.58826,-70.58270,-70.56973,-70.57082,-70.57116,-70.57391,-70.57284,-70.55837,-70.55833,-70.55301,-70.55769,-70.55331,-70.55896,-70.54605,-70.54378,-70.51932,-70.53553,-70.53781,-70.52970,-70.51053,-70.50925,-70.50101,-70.53156,-70.51291,-70.49770,-70.52749]}\n",
    "df = pd.DataFrame.from_dict(data)\n",
    "df.head()"
   ]
  },
  {
   "cell_type": "markdown",
   "metadata": {},
   "source": [
    "We generate the query of the location of Las Condes through geolocator. This will be used for the generation of maps later"
   ]
  },
  {
   "cell_type": "code",
   "execution_count": 6,
   "metadata": {},
   "outputs": [
    {
     "name": "stdout",
     "output_type": "stream",
     "text": [
      "The geograpical coordinate of Las Condes are -33.4247879, -70.51749760753927.\n"
     ]
    }
   ],
   "source": [
    "address = 'Las Condes, Chile'\n",
    "geolocator = Nominatim(user_agent=\"LC_explorer\")\n",
    "location = geolocator.geocode(address)\n",
    "latitude = location.latitude\n",
    "longitude = location.longitude\n",
    "print('The geograpical coordinate of Las Condes are {}, {}.'.format(latitude, longitude))"
   ]
  },
  {
   "cell_type": "markdown",
   "metadata": {},
   "source": [
    "using the same credentials obtained in the laboratories to use foursquare, the url of the query is defined"
   ]
  },
  {
   "cell_type": "code",
   "execution_count": 7,
   "metadata": {},
   "outputs": [
    {
     "data": {
      "text/plain": [
       "'https://api.foursquare.com/v2/venues/explore?client_id=COZBU11X0DIMGXSLOVYY0BKSIPGUWFNJUA02JOLNV2RZTZ2A&client_secret=VK544BRBEU1FABPAKTHKQIPX24RPR5TBJJJ0XQJWJAXHUPDY&ll=-33.4247879,-70.51749760753927&v=20180605&radius=800&limit=200'"
      ]
     },
     "execution_count": 7,
     "metadata": {},
     "output_type": "execute_result"
    }
   ],
   "source": [
    "CLIENT_ID = 'COZBU11X0DIMGXSLOVYY0BKSIPGUWFNJUA02JOLNV2RZTZ2A' # your Foursquare ID\n",
    "CLIENT_SECRET = 'VK544BRBEU1FABPAKTHKQIPX24RPR5TBJJJ0XQJWJAXHUPDY' # your Foursquare Secret\n",
    "VERSION = '20180605' # Foursquare API version\n",
    "LIMIT = 200\n",
    "radius = 800\n",
    "\n",
    "url = 'https://api.foursquare.com/v2/venues/explore?client_id={}&client_secret={}&ll={},{}&v={}&radius={}&limit={}'.format(CLIENT_ID, CLIENT_SECRET, latitude, longitude, VERSION, radius, LIMIT)\n",
    "url"
   ]
  },
  {
   "cell_type": "markdown",
   "metadata": {},
   "source": [
    "Then, a first map is generated which contains the distribution of the 26 areas that cover the territory of Las Condes."
   ]
  },
  {
   "cell_type": "code",
   "execution_count": 8,
   "metadata": {},
   "outputs": [
    {
     "data": {
      "text/html": [
       "<div style=\"width:100%;\"><div style=\"position:relative;width:100%;height:0;padding-bottom:60%;\"><span style=\"color:#565656\">Make this Notebook Trusted to load map: File -> Trust Notebook</span><iframe src=\"about:blank\" style=\"position:absolute;width:100%;height:100%;left:0;top:0;border:none !important;\" data-html=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 onload=\"this.contentDocument.open();this.contentDocument.write(atob(this.getAttribute('data-html')));this.contentDocument.close();\" allowfullscreen webkitallowfullscreen mozallowfullscreen></iframe></div></div>"
      ],
      "text/plain": [
       "<folium.folium.Map at 0x7ff94f819710>"
      ]
     },
     "execution_count": 8,
     "metadata": {},
     "output_type": "execute_result"
    }
   ],
   "source": [
    "map_LC = folium.Map(location=[latitude, longitude], zoom_start=12)\n",
    "\n",
    "for lat, lng, neighborhood in zip(df['Latitude'], df['Longitude'], df['Neighborhood']):\n",
    "    label = '{}, Las Condes'.format(neighborhood)\n",
    "    label = folium.Popup(label, parse_html=True)\n",
    "    folium.CircleMarker(\n",
    "        [lat, lng],\n",
    "        radius=5,\n",
    "        popup=label,\n",
    "        color='blue',\n",
    "        fill=True,\n",
    "        fill_color='#3186cc',\n",
    "        fill_opacity=0.7,\n",
    "        parse_html=False).add_to(map_LC)  \n",
    "    \n",
    "map_LC"
   ]
  },
  {
   "cell_type": "markdown",
   "metadata": {},
   "source": [
    "We generate the foursquare request to explore the venues near each neighborhood. To do it at once, the functions defined in the NY laboratory are used."
   ]
  },
  {
   "cell_type": "code",
   "execution_count": 9,
   "metadata": {},
   "outputs": [],
   "source": [
    "#results = requests.get(url).json()"
   ]
  },
  {
   "cell_type": "code",
   "execution_count": 10,
   "metadata": {},
   "outputs": [],
   "source": [
    "def get_category_type(row):\n",
    "    try:\n",
    "        categories_list = row['categories']\n",
    "    except:\n",
    "        categories_list = row['venue.categories']\n",
    "        \n",
    "    if len(categories_list) == 0:\n",
    "        return None\n",
    "    else:\n",
    "        return categories_list[0]['name']"
   ]
  },
  {
   "cell_type": "code",
   "execution_count": 11,
   "metadata": {},
   "outputs": [],
   "source": [
    "def getNearbyVenues(names, latitudes, longitudes, radius=800):\n",
    "    \n",
    "    venues_list=[]\n",
    "    for name, lat, lng in zip(names, latitudes, longitudes):\n",
    "        url = 'https://api.foursquare.com/v2/venues/explore?&client_id={}&client_secret={}&v={}&ll={},{}&radius={}&limit={}'.format(\n",
    "            CLIENT_ID, \n",
    "            CLIENT_SECRET, \n",
    "            VERSION, \n",
    "            lat, \n",
    "            lng, \n",
    "            radius, \n",
    "            LIMIT)\n",
    "\n",
    "        results = requests.get(url).json()[\"response\"]['groups'][0]['items']\n",
    "        venues_list.append([(\n",
    "            name, \n",
    "            lat, \n",
    "            lng, \n",
    "            v['venue']['name'], \n",
    "            v['venue']['location']['lat'], \n",
    "            v['venue']['location']['lng'],  \n",
    "            v['venue']['categories'][0]['name']) for v in results])\n",
    "\n",
    "    nearby_venues = pd.DataFrame([item for venue_list in venues_list for item in venue_list])\n",
    "    nearby_venues.columns = ['Neighborhood', \n",
    "                  'Neighborhood Latitude', \n",
    "                  'Neighborhood Longitude', \n",
    "                  'Venue', \n",
    "                  'Venue Latitude', \n",
    "                  'Venue Longitude', \n",
    "                  'Venue Category']\n",
    "    \n",
    "    return(nearby_venues)"
   ]
  },
  {
   "cell_type": "markdown",
   "metadata": {},
   "source": [
    "We call the function and its output is stored in an initial dataframe called \"LC_venues\""
   ]
  },
  {
   "cell_type": "code",
   "execution_count": 12,
   "metadata": {},
   "outputs": [],
   "source": [
    "LC_venues = getNearbyVenues(names=df['Neighborhood'],\n",
    "                                   latitudes=df['Latitude'],\n",
    "                                   longitudes=df['Longitude']\n",
    "                                  )"
   ]
  },
  {
   "cell_type": "code",
   "execution_count": 13,
   "metadata": {},
   "outputs": [
    {
     "name": "stdout",
     "output_type": "stream",
     "text": [
      "The dataframe has 1223 rows and 7 columns\n"
     ]
    },
    {
     "data": {
      "text/html": [
       "<div>\n",
       "<style scoped>\n",
       "    .dataframe tbody tr th:only-of-type {\n",
       "        vertical-align: middle;\n",
       "    }\n",
       "\n",
       "    .dataframe tbody tr th {\n",
       "        vertical-align: top;\n",
       "    }\n",
       "\n",
       "    .dataframe thead th {\n",
       "        text-align: right;\n",
       "    }\n",
       "</style>\n",
       "<table border=\"1\" class=\"dataframe\">\n",
       "  <thead>\n",
       "    <tr style=\"text-align: right;\">\n",
       "      <th></th>\n",
       "      <th>Neighborhood</th>\n",
       "      <th>Neighborhood Latitude</th>\n",
       "      <th>Neighborhood Longitude</th>\n",
       "      <th>Venue</th>\n",
       "      <th>Venue Latitude</th>\n",
       "      <th>Venue Longitude</th>\n",
       "      <th>Venue Category</th>\n",
       "    </tr>\n",
       "  </thead>\n",
       "  <tbody>\n",
       "    <tr>\n",
       "      <th>0</th>\n",
       "      <td>El Golf</td>\n",
       "      <td>-33.41351</td>\n",
       "      <td>-70.59865</td>\n",
       "      <td>Tiramisú</td>\n",
       "      <td>-33.414521</td>\n",
       "      <td>-70.597563</td>\n",
       "      <td>Pizza Place</td>\n",
       "    </tr>\n",
       "    <tr>\n",
       "      <th>1</th>\n",
       "      <td>El Golf</td>\n",
       "      <td>-33.41351</td>\n",
       "      <td>-70.59865</td>\n",
       "      <td>Karai</td>\n",
       "      <td>-33.414303</td>\n",
       "      <td>-70.598148</td>\n",
       "      <td>Peruvian Restaurant</td>\n",
       "    </tr>\n",
       "    <tr>\n",
       "      <th>2</th>\n",
       "      <td>El Golf</td>\n",
       "      <td>-33.41351</td>\n",
       "      <td>-70.59865</td>\n",
       "      <td>Casa Habano</td>\n",
       "      <td>-33.414380</td>\n",
       "      <td>-70.598336</td>\n",
       "      <td>Smoke Shop</td>\n",
       "    </tr>\n",
       "    <tr>\n",
       "      <th>3</th>\n",
       "      <td>El Golf</td>\n",
       "      <td>-33.41351</td>\n",
       "      <td>-70.59865</td>\n",
       "      <td>El Toldo Azul</td>\n",
       "      <td>-33.414499</td>\n",
       "      <td>-70.597155</td>\n",
       "      <td>Ice Cream Shop</td>\n",
       "    </tr>\n",
       "    <tr>\n",
       "      <th>4</th>\n",
       "      <td>El Golf</td>\n",
       "      <td>-33.41351</td>\n",
       "      <td>-70.59865</td>\n",
       "      <td>Spa Mandala, Bienestar y Belleza</td>\n",
       "      <td>-33.412880</td>\n",
       "      <td>-70.596609</td>\n",
       "      <td>Spa</td>\n",
       "    </tr>\n",
       "  </tbody>\n",
       "</table>\n",
       "</div>"
      ],
      "text/plain": [
       "  Neighborhood  Neighborhood Latitude  Neighborhood Longitude  \\\n",
       "0      El Golf              -33.41351               -70.59865   \n",
       "1      El Golf              -33.41351               -70.59865   \n",
       "2      El Golf              -33.41351               -70.59865   \n",
       "3      El Golf              -33.41351               -70.59865   \n",
       "4      El Golf              -33.41351               -70.59865   \n",
       "\n",
       "                              Venue  Venue Latitude  Venue Longitude  \\\n",
       "0                          Tiramisú      -33.414521       -70.597563   \n",
       "1                             Karai      -33.414303       -70.598148   \n",
       "2                       Casa Habano      -33.414380       -70.598336   \n",
       "3                     El Toldo Azul      -33.414499       -70.597155   \n",
       "4  Spa Mandala, Bienestar y Belleza      -33.412880       -70.596609   \n",
       "\n",
       "        Venue Category  \n",
       "0          Pizza Place  \n",
       "1  Peruvian Restaurant  \n",
       "2           Smoke Shop  \n",
       "3       Ice Cream Shop  \n",
       "4                  Spa  "
      ]
     },
     "execution_count": 13,
     "metadata": {},
     "output_type": "execute_result"
    }
   ],
   "source": [
    "print('The dataframe has {} rows and {} columns'.format(LC_venues.shape[0],LC_venues.shape[1]))\n",
    "LC_venues.head()\n",
    "# shape (559, 7)"
   ]
  },
  {
   "cell_type": "markdown",
   "metadata": {},
   "source": [
    "Next, the number of venues found by the API in each neighborhood is presented"
   ]
  },
  {
   "cell_type": "code",
   "execution_count": 18,
   "metadata": {},
   "outputs": [
    {
     "data": {
      "image/png": "[encoded data removed]",
      "text/plain": [
       "<Figure size 720x432 with 1 Axes>"
      ]
     },
     "metadata": {
      "needs_background": "light"
     },
     "output_type": "display_data"
    }
   ],
   "source": [
    "b = LC_venues.groupby('Neighborhood').count()[['Venue']].sort_values(by=['Venue'], ascending = False)\n",
    "#ax = b[:8].plot.bar(y='Venue', rot=0)\n",
    "#ax\n",
    "b.plot(kind='barh',alpha=0.75, rot=0,figsize=(10,6))\n",
    "plt.xlabel(\"\")\n",
    "plt.show()"
   ]
  },
  {
   "cell_type": "code",
   "execution_count": 19,
   "metadata": {},
   "outputs": [
    {
     "name": "stdout",
     "output_type": "stream",
     "text": [
      "There are 172 uniques categories.\n"
     ]
    }
   ],
   "source": [
    "print('There are {} uniques categories.'.format(len(LC_venues['Venue Category'].unique())))\n",
    "#There are 137 uniques categories."
   ]
  },
  {
   "cell_type": "code",
   "execution_count": 22,
   "metadata": {},
   "outputs": [],
   "source": [
    "bars = ['Cocktail Bar','Beer Garden','Shopping Mall','Shop & Service','Market','Bar','Wine Shop','Wine Bar','Sports Bar','Liquor Store','Food & Drink Shop','Hotel Bar','Supermarket','Pub']\n",
    "rest = ['Pizza Place','Tex-Mex Restaurant','Hot Dog Joint','German Restaurant','Szechuan Restaurant','Caribbean Restaurant','Diner','Falafel Restaurant','BBQ Joint','Thai Restaurant','American Restaurant','Peruvian Restaurant','Asian Restaurant','Korean Restaurant', 'Food Court','Middle Eastern Restaurant','Mexican Restaurant','Seafood Restaurant','Peruvian Restaurant','French Restaurant','Steakhouse', 'Restaurant', 'Spanish Restaurant','Chinese Restaurant','Sushi Restaurant','Argentinian Restaurant','Italian Restaurant','Japanese Restaurant','Burger Joint','Sandwich Place','Fast Food Restaurant','Vegetarian / Vegan Restaurant','South American Restaurant','Latin American Restaurant','Burrito Place','Salad Place','Food Truck','Snack Place','Indian Restaurant','Fried Chicken Joint','Empanada Restaurant','Gourmet Shop','Molecular Gastronomy Restaurant']"
   ]
  },
  {
   "cell_type": "markdown",
   "metadata": {},
   "source": [
    "To better visualize the density of services (liquor stores + restaurants), a heat map is presented over the territory of the commune"
   ]
  },
  {
   "cell_type": "code",
   "execution_count": 23,
   "metadata": {},
   "outputs": [],
   "source": [
    "rest_df = LC_venues[LC_venues['Venue Category'].isin(rest)]\n",
    "bar_df = LC_venues[LC_venues['Venue Category'].isin(bars)]\n",
    "total_df = LC_venues[LC_venues['Venue Category'].isin(bars) | LC_venues['Venue Category'].isin(rest)]\n",
    "heat_data = [[row['Venue Latitude'],row['Venue Longitude']] for index, row in total_df.iterrows()]"
   ]
  },
  {
   "cell_type": "code",
   "execution_count": 24,
   "metadata": {
    "scrolled": false
   },
   "outputs": [
    {
     "data": {
      "text/html": [
       "<div style=\"width:100%;\"><div style=\"position:relative;width:100%;height:0;padding-bottom:60%;\"><span style=\"color:#565656\">Make this Notebook Trusted to load map: File -> Trust Notebook</span><iframe src=\"about:blank\" style=\"position:absolute;width:100%;height:100%;left:0;top:0;border:none !important;\" data-html=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 onload=\"this.contentDocument.open();this.contentDocument.write(atob(this.getAttribute('data-html')));this.contentDocument.close();\" allowfullscreen webkitallowfullscreen mozallowfullscreen></iframe></div></div>"
      ],
      "text/plain": [
       "<folium.folium.Map at 0x7ff94fe9da90>"
      ]
     },
     "execution_count": 24,
     "metadata": {},
     "output_type": "execute_result"
    }
   ],
   "source": [
    "hmap1 = folium.Map(location=[latitude, longitude], zoom_start=13)\n",
    "HeatMap(heat_data).add_to(hmap1)\n",
    "hmap1"
   ]
  },
  {
   "cell_type": "markdown",
   "metadata": {},
   "source": [
    "It can be noted that the northern part of the commune in general (El Golf, Alonso de Córdova, Parque Araucano, Estoril, etc.) presents a high density of services. This indicates that installing a liquor store in these points could be a double-edged sword, since on the one hand there is great competition, but at the same time, there will be greater competition between services"
   ]
  },
  {
   "cell_type": "markdown",
   "metadata": {},
   "source": [
    "Based on the unique categories that the API found, two subsets are defined, one with the stores where liquors could be purchased and the other with all types of restaurants. These will be used later to filter the dataframe and work with the information of interest only"
   ]
  },
  {
   "cell_type": "code",
   "execution_count": 25,
   "metadata": {},
   "outputs": [],
   "source": [
    "a = list(LC_venues['Venue Category'].unique())\n",
    "#print(a)"
   ]
  },
  {
   "cell_type": "markdown",
   "metadata": {},
   "source": [
    "In the same way as in the NY laboratory, a binary matrix is generated with the categories that each neighborhood has"
   ]
  },
  {
   "cell_type": "code",
   "execution_count": 26,
   "metadata": {},
   "outputs": [
    {
     "data": {
      "text/html": [
       "<div>\n",
       "<style scoped>\n",
       "    .dataframe tbody tr th:only-of-type {\n",
       "        vertical-align: middle;\n",
       "    }\n",
       "\n",
       "    .dataframe tbody tr th {\n",
       "        vertical-align: top;\n",
       "    }\n",
       "\n",
       "    .dataframe thead th {\n",
       "        text-align: right;\n",
       "    }\n",
       "</style>\n",
       "<table border=\"1\" class=\"dataframe\">\n",
       "  <thead>\n",
       "    <tr style=\"text-align: right;\">\n",
       "      <th></th>\n",
       "      <th>Neighborhood</th>\n",
       "      <th>Venue Category_Accessories Store</th>\n",
       "      <th>Venue Category_Adult Boutique</th>\n",
       "      <th>Venue Category_American Restaurant</th>\n",
       "      <th>Venue Category_Argentinian Restaurant</th>\n",
       "      <th>Venue Category_Art Gallery</th>\n",
       "      <th>Venue Category_Arts &amp; Crafts Store</th>\n",
       "      <th>Venue Category_Arts &amp; Entertainment</th>\n",
       "      <th>Venue Category_Asian Restaurant</th>\n",
       "      <th>Venue Category_Athletics &amp; Sports</th>\n",
       "      <th>...</th>\n",
       "      <th>Venue Category_Theater</th>\n",
       "      <th>Venue Category_Toy / Game Store</th>\n",
       "      <th>Venue Category_Track Stadium</th>\n",
       "      <th>Venue Category_Vegetarian / Vegan Restaurant</th>\n",
       "      <th>Venue Category_Veterinarian</th>\n",
       "      <th>Venue Category_Video Game Store</th>\n",
       "      <th>Venue Category_Wine Bar</th>\n",
       "      <th>Venue Category_Wine Shop</th>\n",
       "      <th>Venue Category_Women's Store</th>\n",
       "      <th>Venue Category_Yoga Studio</th>\n",
       "    </tr>\n",
       "  </thead>\n",
       "  <tbody>\n",
       "    <tr>\n",
       "      <th>0</th>\n",
       "      <td>El Golf</td>\n",
       "      <td>0</td>\n",
       "      <td>0</td>\n",
       "      <td>0</td>\n",
       "      <td>0</td>\n",
       "      <td>0</td>\n",
       "      <td>0</td>\n",
       "      <td>0</td>\n",
       "      <td>0</td>\n",
       "      <td>0</td>\n",
       "      <td>...</td>\n",
       "      <td>0</td>\n",
       "      <td>0</td>\n",
       "      <td>0</td>\n",
       "      <td>0</td>\n",
       "      <td>0</td>\n",
       "      <td>0</td>\n",
       "      <td>0</td>\n",
       "      <td>0</td>\n",
       "      <td>0</td>\n",
       "      <td>0</td>\n",
       "    </tr>\n",
       "    <tr>\n",
       "      <th>1</th>\n",
       "      <td>El Golf</td>\n",
       "      <td>0</td>\n",
       "      <td>0</td>\n",
       "      <td>0</td>\n",
       "      <td>0</td>\n",
       "      <td>0</td>\n",
       "      <td>0</td>\n",
       "      <td>0</td>\n",
       "      <td>0</td>\n",
       "      <td>0</td>\n",
       "      <td>...</td>\n",
       "      <td>0</td>\n",
       "      <td>0</td>\n",
       "      <td>0</td>\n",
       "      <td>0</td>\n",
       "      <td>0</td>\n",
       "      <td>0</td>\n",
       "      <td>0</td>\n",
       "      <td>0</td>\n",
       "      <td>0</td>\n",
       "      <td>0</td>\n",
       "    </tr>\n",
       "    <tr>\n",
       "      <th>2</th>\n",
       "      <td>El Golf</td>\n",
       "      <td>0</td>\n",
       "      <td>0</td>\n",
       "      <td>0</td>\n",
       "      <td>0</td>\n",
       "      <td>0</td>\n",
       "      <td>0</td>\n",
       "      <td>0</td>\n",
       "      <td>0</td>\n",
       "      <td>0</td>\n",
       "      <td>...</td>\n",
       "      <td>0</td>\n",
       "      <td>0</td>\n",
       "      <td>0</td>\n",
       "      <td>0</td>\n",
       "      <td>0</td>\n",
       "      <td>0</td>\n",
       "      <td>0</td>\n",
       "      <td>0</td>\n",
       "      <td>0</td>\n",
       "      <td>0</td>\n",
       "    </tr>\n",
       "    <tr>\n",
       "      <th>3</th>\n",
       "      <td>El Golf</td>\n",
       "      <td>0</td>\n",
       "      <td>0</td>\n",
       "      <td>0</td>\n",
       "      <td>0</td>\n",
       "      <td>0</td>\n",
       "      <td>0</td>\n",
       "      <td>0</td>\n",
       "      <td>0</td>\n",
       "      <td>0</td>\n",
       "      <td>...</td>\n",
       "      <td>0</td>\n",
       "      <td>0</td>\n",
       "      <td>0</td>\n",
       "      <td>0</td>\n",
       "      <td>0</td>\n",
       "      <td>0</td>\n",
       "      <td>0</td>\n",
       "      <td>0</td>\n",
       "      <td>0</td>\n",
       "      <td>0</td>\n",
       "    </tr>\n",
       "    <tr>\n",
       "      <th>4</th>\n",
       "      <td>El Golf</td>\n",
       "      <td>0</td>\n",
       "      <td>0</td>\n",
       "      <td>0</td>\n",
       "      <td>0</td>\n",
       "      <td>0</td>\n",
       "      <td>0</td>\n",
       "      <td>0</td>\n",
       "      <td>0</td>\n",
       "      <td>0</td>\n",
       "      <td>...</td>\n",
       "      <td>0</td>\n",
       "      <td>0</td>\n",
       "      <td>0</td>\n",
       "      <td>0</td>\n",
       "      <td>0</td>\n",
       "      <td>0</td>\n",
       "      <td>0</td>\n",
       "      <td>0</td>\n",
       "      <td>0</td>\n",
       "      <td>0</td>\n",
       "    </tr>\n",
       "  </tbody>\n",
       "</table>\n",
       "<p>5 rows × 173 columns</p>\n",
       "</div>"
      ],
      "text/plain": [
       "  Neighborhood  Venue Category_Accessories Store  \\\n",
       "0      El Golf                                 0   \n",
       "1      El Golf                                 0   \n",
       "2      El Golf                                 0   \n",
       "3      El Golf                                 0   \n",
       "4      El Golf                                 0   \n",
       "\n",
       "   Venue Category_Adult Boutique  Venue Category_American Restaurant  \\\n",
       "0                              0                                   0   \n",
       "1                              0                                   0   \n",
       "2                              0                                   0   \n",
       "3                              0                                   0   \n",
       "4                              0                                   0   \n",
       "\n",
       "   Venue Category_Argentinian Restaurant  Venue Category_Art Gallery  \\\n",
       "0                                      0                           0   \n",
       "1                                      0                           0   \n",
       "2                                      0                           0   \n",
       "3                                      0                           0   \n",
       "4                                      0                           0   \n",
       "\n",
       "   Venue Category_Arts & Crafts Store  Venue Category_Arts & Entertainment  \\\n",
       "0                                   0                                    0   \n",
       "1                                   0                                    0   \n",
       "2                                   0                                    0   \n",
       "3                                   0                                    0   \n",
       "4                                   0                                    0   \n",
       "\n",
       "   Venue Category_Asian Restaurant  Venue Category_Athletics & Sports  ...  \\\n",
       "0                                0                                  0  ...   \n",
       "1                                0                                  0  ...   \n",
       "2                                0                                  0  ...   \n",
       "3                                0                                  0  ...   \n",
       "4                                0                                  0  ...   \n",
       "\n",
       "   Venue Category_Theater  Venue Category_Toy / Game Store  \\\n",
       "0                       0                                0   \n",
       "1                       0                                0   \n",
       "2                       0                                0   \n",
       "3                       0                                0   \n",
       "4                       0                                0   \n",
       "\n",
       "   Venue Category_Track Stadium  Venue Category_Vegetarian / Vegan Restaurant  \\\n",
       "0                             0                                             0   \n",
       "1                             0                                             0   \n",
       "2                             0                                             0   \n",
       "3                             0                                             0   \n",
       "4                             0                                             0   \n",
       "\n",
       "   Venue Category_Veterinarian  Venue Category_Video Game Store  \\\n",
       "0                            0                                0   \n",
       "1                            0                                0   \n",
       "2                            0                                0   \n",
       "3                            0                                0   \n",
       "4                            0                                0   \n",
       "\n",
       "   Venue Category_Wine Bar  Venue Category_Wine Shop  \\\n",
       "0                        0                         0   \n",
       "1                        0                         0   \n",
       "2                        0                         0   \n",
       "3                        0                         0   \n",
       "4                        0                         0   \n",
       "\n",
       "   Venue Category_Women's Store  Venue Category_Yoga Studio  \n",
       "0                             0                           0  \n",
       "1                             0                           0  \n",
       "2                             0                           0  \n",
       "3                             0                           0  \n",
       "4                             0                           0  \n",
       "\n",
       "[5 rows x 173 columns]"
      ]
     },
     "execution_count": 26,
     "metadata": {},
     "output_type": "execute_result"
    }
   ],
   "source": [
    "LC_onehot = pd.get_dummies(LC_venues[['Venue Category']])\n",
    "LC_onehot['Neighborhood'] = LC_venues['Neighborhood'] \n",
    "fixed_columns = [LC_onehot.columns[-1]] + list(LC_onehot.columns[:-1])\n",
    "LC_onehot = LC_onehot[fixed_columns]\n",
    "\n",
    "LC_onehot.head()"
   ]
  },
  {
   "cell_type": "markdown",
   "metadata": {},
   "source": [
    "Next, two new columns are generated whose value is the count of places in each category grouped by neighborhood. This new dataframe is called LC_grouped"
   ]
  },
  {
   "cell_type": "code",
   "execution_count": 27,
   "metadata": {},
   "outputs": [],
   "source": [
    "cols = LC_onehot.columns.tolist()[1:]\n",
    "values = ['sum' for i in range(len(cols))]\n",
    "dic = dict(zip(cols, values))"
   ]
  },
  {
   "cell_type": "code",
   "execution_count": 28,
   "metadata": {},
   "outputs": [
    {
     "data": {
      "text/html": [
       "<div>\n",
       "<style scoped>\n",
       "    .dataframe tbody tr th:only-of-type {\n",
       "        vertical-align: middle;\n",
       "    }\n",
       "\n",
       "    .dataframe tbody tr th {\n",
       "        vertical-align: top;\n",
       "    }\n",
       "\n",
       "    .dataframe thead th {\n",
       "        text-align: right;\n",
       "    }\n",
       "</style>\n",
       "<table border=\"1\" class=\"dataframe\">\n",
       "  <thead>\n",
       "    <tr style=\"text-align: right;\">\n",
       "      <th></th>\n",
       "      <th>Venue Category_Accessories Store</th>\n",
       "      <th>Venue Category_Adult Boutique</th>\n",
       "      <th>Venue Category_American Restaurant</th>\n",
       "      <th>Venue Category_Argentinian Restaurant</th>\n",
       "      <th>Venue Category_Art Gallery</th>\n",
       "      <th>Venue Category_Arts &amp; Crafts Store</th>\n",
       "      <th>Venue Category_Arts &amp; Entertainment</th>\n",
       "      <th>Venue Category_Asian Restaurant</th>\n",
       "      <th>Venue Category_Athletics &amp; Sports</th>\n",
       "      <th>Venue Category_Automotive Shop</th>\n",
       "      <th>...</th>\n",
       "      <th>Venue Category_Track Stadium</th>\n",
       "      <th>Venue Category_Vegetarian / Vegan Restaurant</th>\n",
       "      <th>Venue Category_Veterinarian</th>\n",
       "      <th>Venue Category_Video Game Store</th>\n",
       "      <th>Venue Category_Wine Bar</th>\n",
       "      <th>Venue Category_Wine Shop</th>\n",
       "      <th>Venue Category_Women's Store</th>\n",
       "      <th>Venue Category_Yoga Studio</th>\n",
       "      <th>Liquor points</th>\n",
       "      <th>Restaurants</th>\n",
       "    </tr>\n",
       "    <tr>\n",
       "      <th>Neighborhood</th>\n",
       "      <th></th>\n",
       "      <th></th>\n",
       "      <th></th>\n",
       "      <th></th>\n",
       "      <th></th>\n",
       "      <th></th>\n",
       "      <th></th>\n",
       "      <th></th>\n",
       "      <th></th>\n",
       "      <th></th>\n",
       "      <th></th>\n",
       "      <th></th>\n",
       "      <th></th>\n",
       "      <th></th>\n",
       "      <th></th>\n",
       "      <th></th>\n",
       "      <th></th>\n",
       "      <th></th>\n",
       "      <th></th>\n",
       "      <th></th>\n",
       "      <th></th>\n",
       "    </tr>\n",
       "  </thead>\n",
       "  <tbody>\n",
       "    <tr>\n",
       "      <th>Alcantara</th>\n",
       "      <td>0</td>\n",
       "      <td>0</td>\n",
       "      <td>0</td>\n",
       "      <td>1</td>\n",
       "      <td>0</td>\n",
       "      <td>0</td>\n",
       "      <td>0</td>\n",
       "      <td>0</td>\n",
       "      <td>1</td>\n",
       "      <td>0</td>\n",
       "      <td>...</td>\n",
       "      <td>0</td>\n",
       "      <td>2</td>\n",
       "      <td>0</td>\n",
       "      <td>0</td>\n",
       "      <td>0</td>\n",
       "      <td>0</td>\n",
       "      <td>0</td>\n",
       "      <td>2</td>\n",
       "      <td>6</td>\n",
       "      <td>23</td>\n",
       "    </tr>\n",
       "    <tr>\n",
       "      <th>Alonso de Camargo</th>\n",
       "      <td>1</td>\n",
       "      <td>0</td>\n",
       "      <td>0</td>\n",
       "      <td>0</td>\n",
       "      <td>0</td>\n",
       "      <td>0</td>\n",
       "      <td>1</td>\n",
       "      <td>0</td>\n",
       "      <td>0</td>\n",
       "      <td>0</td>\n",
       "      <td>...</td>\n",
       "      <td>0</td>\n",
       "      <td>0</td>\n",
       "      <td>0</td>\n",
       "      <td>0</td>\n",
       "      <td>0</td>\n",
       "      <td>0</td>\n",
       "      <td>0</td>\n",
       "      <td>0</td>\n",
       "      <td>3</td>\n",
       "      <td>13</td>\n",
       "    </tr>\n",
       "    <tr>\n",
       "      <th>Alonso de Cordova</th>\n",
       "      <td>0</td>\n",
       "      <td>0</td>\n",
       "      <td>0</td>\n",
       "      <td>0</td>\n",
       "      <td>0</td>\n",
       "      <td>0</td>\n",
       "      <td>0</td>\n",
       "      <td>0</td>\n",
       "      <td>0</td>\n",
       "      <td>0</td>\n",
       "      <td>...</td>\n",
       "      <td>0</td>\n",
       "      <td>1</td>\n",
       "      <td>0</td>\n",
       "      <td>1</td>\n",
       "      <td>0</td>\n",
       "      <td>1</td>\n",
       "      <td>1</td>\n",
       "      <td>0</td>\n",
       "      <td>4</td>\n",
       "      <td>23</td>\n",
       "    </tr>\n",
       "    <tr>\n",
       "      <th>Alto Las Condes</th>\n",
       "      <td>0</td>\n",
       "      <td>0</td>\n",
       "      <td>0</td>\n",
       "      <td>0</td>\n",
       "      <td>0</td>\n",
       "      <td>0</td>\n",
       "      <td>0</td>\n",
       "      <td>2</td>\n",
       "      <td>1</td>\n",
       "      <td>0</td>\n",
       "      <td>...</td>\n",
       "      <td>0</td>\n",
       "      <td>0</td>\n",
       "      <td>0</td>\n",
       "      <td>1</td>\n",
       "      <td>0</td>\n",
       "      <td>0</td>\n",
       "      <td>1</td>\n",
       "      <td>1</td>\n",
       "      <td>2</td>\n",
       "      <td>25</td>\n",
       "    </tr>\n",
       "    <tr>\n",
       "      <th>Camino el Alba</th>\n",
       "      <td>0</td>\n",
       "      <td>0</td>\n",
       "      <td>0</td>\n",
       "      <td>0</td>\n",
       "      <td>0</td>\n",
       "      <td>0</td>\n",
       "      <td>0</td>\n",
       "      <td>0</td>\n",
       "      <td>0</td>\n",
       "      <td>0</td>\n",
       "      <td>...</td>\n",
       "      <td>0</td>\n",
       "      <td>0</td>\n",
       "      <td>0</td>\n",
       "      <td>0</td>\n",
       "      <td>0</td>\n",
       "      <td>0</td>\n",
       "      <td>0</td>\n",
       "      <td>0</td>\n",
       "      <td>0</td>\n",
       "      <td>1</td>\n",
       "    </tr>\n",
       "  </tbody>\n",
       "</table>\n",
       "<p>5 rows × 174 columns</p>\n",
       "</div>"
      ],
      "text/plain": [
       "                   Venue Category_Accessories Store  \\\n",
       "Neighborhood                                          \n",
       "Alcantara                                         0   \n",
       "Alonso de Camargo                                 1   \n",
       "Alonso de Cordova                                 0   \n",
       "Alto Las Condes                                   0   \n",
       "Camino el Alba                                    0   \n",
       "\n",
       "                   Venue Category_Adult Boutique  \\\n",
       "Neighborhood                                       \n",
       "Alcantara                                      0   \n",
       "Alonso de Camargo                              0   \n",
       "Alonso de Cordova                              0   \n",
       "Alto Las Condes                                0   \n",
       "Camino el Alba                                 0   \n",
       "\n",
       "                   Venue Category_American Restaurant  \\\n",
       "Neighborhood                                            \n",
       "Alcantara                                           0   \n",
       "Alonso de Camargo                                   0   \n",
       "Alonso de Cordova                                   0   \n",
       "Alto Las Condes                                     0   \n",
       "Camino el Alba                                      0   \n",
       "\n",
       "                   Venue Category_Argentinian Restaurant  \\\n",
       "Neighborhood                                               \n",
       "Alcantara                                              1   \n",
       "Alonso de Camargo                                      0   \n",
       "Alonso de Cordova                                      0   \n",
       "Alto Las Condes                                        0   \n",
       "Camino el Alba                                         0   \n",
       "\n",
       "                   Venue Category_Art Gallery  \\\n",
       "Neighborhood                                    \n",
       "Alcantara                                   0   \n",
       "Alonso de Camargo                           0   \n",
       "Alonso de Cordova                           0   \n",
       "Alto Las Condes                             0   \n",
       "Camino el Alba                              0   \n",
       "\n",
       "                   Venue Category_Arts & Crafts Store  \\\n",
       "Neighborhood                                            \n",
       "Alcantara                                           0   \n",
       "Alonso de Camargo                                   0   \n",
       "Alonso de Cordova                                   0   \n",
       "Alto Las Condes                                     0   \n",
       "Camino el Alba                                      0   \n",
       "\n",
       "                   Venue Category_Arts & Entertainment  \\\n",
       "Neighborhood                                             \n",
       "Alcantara                                            0   \n",
       "Alonso de Camargo                                    1   \n",
       "Alonso de Cordova                                    0   \n",
       "Alto Las Condes                                      0   \n",
       "Camino el Alba                                       0   \n",
       "\n",
       "                   Venue Category_Asian Restaurant  \\\n",
       "Neighborhood                                         \n",
       "Alcantara                                        0   \n",
       "Alonso de Camargo                                0   \n",
       "Alonso de Cordova                                0   \n",
       "Alto Las Condes                                  2   \n",
       "Camino el Alba                                   0   \n",
       "\n",
       "                   Venue Category_Athletics & Sports  \\\n",
       "Neighborhood                                           \n",
       "Alcantara                                          1   \n",
       "Alonso de Camargo                                  0   \n",
       "Alonso de Cordova                                  0   \n",
       "Alto Las Condes                                    1   \n",
       "Camino el Alba                                     0   \n",
       "\n",
       "                   Venue Category_Automotive Shop  ...  \\\n",
       "Neighborhood                                       ...   \n",
       "Alcantara                                       0  ...   \n",
       "Alonso de Camargo                               0  ...   \n",
       "Alonso de Cordova                               0  ...   \n",
       "Alto Las Condes                                 0  ...   \n",
       "Camino el Alba                                  0  ...   \n",
       "\n",
       "                   Venue Category_Track Stadium  \\\n",
       "Neighborhood                                      \n",
       "Alcantara                                     0   \n",
       "Alonso de Camargo                             0   \n",
       "Alonso de Cordova                             0   \n",
       "Alto Las Condes                               0   \n",
       "Camino el Alba                                0   \n",
       "\n",
       "                   Venue Category_Vegetarian / Vegan Restaurant  \\\n",
       "Neighborhood                                                      \n",
       "Alcantara                                                     2   \n",
       "Alonso de Camargo                                             0   \n",
       "Alonso de Cordova                                             1   \n",
       "Alto Las Condes                                               0   \n",
       "Camino el Alba                                                0   \n",
       "\n",
       "                   Venue Category_Veterinarian  \\\n",
       "Neighborhood                                     \n",
       "Alcantara                                    0   \n",
       "Alonso de Camargo                            0   \n",
       "Alonso de Cordova                            0   \n",
       "Alto Las Condes                              0   \n",
       "Camino el Alba                               0   \n",
       "\n",
       "                   Venue Category_Video Game Store  Venue Category_Wine Bar  \\\n",
       "Neighborhood                                                                  \n",
       "Alcantara                                        0                        0   \n",
       "Alonso de Camargo                                0                        0   \n",
       "Alonso de Cordova                                1                        0   \n",
       "Alto Las Condes                                  1                        0   \n",
       "Camino el Alba                                   0                        0   \n",
       "\n",
       "                   Venue Category_Wine Shop  Venue Category_Women's Store  \\\n",
       "Neighborhood                                                                \n",
       "Alcantara                                 0                             0   \n",
       "Alonso de Camargo                         0                             0   \n",
       "Alonso de Cordova                         1                             1   \n",
       "Alto Las Condes                           0                             1   \n",
       "Camino el Alba                            0                             0   \n",
       "\n",
       "                   Venue Category_Yoga Studio  Liquor points  Restaurants  \n",
       "Neighborhood                                                               \n",
       "Alcantara                                   2              6           23  \n",
       "Alonso de Camargo                           0              3           13  \n",
       "Alonso de Cordova                           0              4           23  \n",
       "Alto Las Condes                             1              2           25  \n",
       "Camino el Alba                              0              0            1  \n",
       "\n",
       "[5 rows x 174 columns]"
      ]
     },
     "execution_count": 28,
     "metadata": {},
     "output_type": "execute_result"
    }
   ],
   "source": [
    "LC_grouped = LC_onehot.groupby('Neighborhood').agg(dic)\n",
    "LC_grouped['Liquor points'] = sum([LC_grouped['Venue Category_'+i] for i in bars]) \n",
    "LC_grouped['Restaurants'] = sum([LC_grouped['Venue Category_'+j] for j in rest])\n",
    "LC_grouped.head()"
   ]
  },
  {
   "cell_type": "markdown",
   "metadata": {},
   "source": [
    "From said dataframe, only the columns with the count of places are selected"
   ]
  },
  {
   "cell_type": "code",
   "execution_count": 29,
   "metadata": {},
   "outputs": [
    {
     "data": {
      "text/html": [
       "<div>\n",
       "<style scoped>\n",
       "    .dataframe tbody tr th:only-of-type {\n",
       "        vertical-align: middle;\n",
       "    }\n",
       "\n",
       "    .dataframe tbody tr th {\n",
       "        vertical-align: top;\n",
       "    }\n",
       "\n",
       "    .dataframe thead th {\n",
       "        text-align: right;\n",
       "    }\n",
       "</style>\n",
       "<table border=\"1\" class=\"dataframe\">\n",
       "  <thead>\n",
       "    <tr style=\"text-align: right;\">\n",
       "      <th></th>\n",
       "      <th>Liquor points</th>\n",
       "      <th>Restaurants</th>\n",
       "    </tr>\n",
       "    <tr>\n",
       "      <th>Neighborhood</th>\n",
       "      <th></th>\n",
       "      <th></th>\n",
       "    </tr>\n",
       "  </thead>\n",
       "  <tbody>\n",
       "    <tr>\n",
       "      <th>Alcantara</th>\n",
       "      <td>6</td>\n",
       "      <td>23</td>\n",
       "    </tr>\n",
       "    <tr>\n",
       "      <th>Alonso de Camargo</th>\n",
       "      <td>3</td>\n",
       "      <td>13</td>\n",
       "    </tr>\n",
       "    <tr>\n",
       "      <th>Alonso de Cordova</th>\n",
       "      <td>4</td>\n",
       "      <td>23</td>\n",
       "    </tr>\n",
       "    <tr>\n",
       "      <th>Alto Las Condes</th>\n",
       "      <td>2</td>\n",
       "      <td>25</td>\n",
       "    </tr>\n",
       "    <tr>\n",
       "      <th>Camino el Alba</th>\n",
       "      <td>0</td>\n",
       "      <td>1</td>\n",
       "    </tr>\n",
       "  </tbody>\n",
       "</table>\n",
       "</div>"
      ],
      "text/plain": [
       "                   Liquor points  Restaurants\n",
       "Neighborhood                                 \n",
       "Alcantara                      6           23\n",
       "Alonso de Camargo              3           13\n",
       "Alonso de Cordova              4           23\n",
       "Alto Las Condes                2           25\n",
       "Camino el Alba                 0            1"
      ]
     },
     "execution_count": 29,
     "metadata": {},
     "output_type": "execute_result"
    }
   ],
   "source": [
    "#LC_grouped.mean().reset_index()\n",
    "LC_test = LC_grouped[['Liquor points','Restaurants']]\n",
    "LC_test.head()"
   ]
  },
  {
   "cell_type": "code",
   "execution_count": 30,
   "metadata": {},
   "outputs": [
    {
     "data": {
      "text/plain": [
       "<matplotlib.axes._subplots.AxesSubplot at 0x7ff950104710>"
      ]
     },
     "execution_count": 30,
     "metadata": {},
     "output_type": "execute_result"
    },
    {
     "data": {
      "image/png": "[encoded data removed]",
      "text/plain": [
       "<Figure size 864x576 with 1 Axes>"
      ]
     },
     "metadata": {
      "needs_background": "light"
     },
     "output_type": "display_data"
    }
   ],
   "source": [
    "LC_test.sort_values(by=['Restaurants']).plot(y=['Liquor points','Restaurants'], kind=\"barh\",alpha=0.75,figsize=(12,8))"
   ]
  },
  {
   "cell_type": "markdown",
   "metadata": {},
   "source": [
    "Despite the fact that initially 26 neighborhoods were defined to work, at this point the neighborhoods in which no Restaurant or bars or liquor stores were found are eliminated. This in order to make clustering more meaningful"
   ]
  },
  {
   "cell_type": "code",
   "execution_count": 31,
   "metadata": {},
   "outputs": [
    {
     "data": {
      "text/html": [
       "<div>\n",
       "<style scoped>\n",
       "    .dataframe tbody tr th:only-of-type {\n",
       "        vertical-align: middle;\n",
       "    }\n",
       "\n",
       "    .dataframe tbody tr th {\n",
       "        vertical-align: top;\n",
       "    }\n",
       "\n",
       "    .dataframe thead th {\n",
       "        text-align: right;\n",
       "    }\n",
       "</style>\n",
       "<table border=\"1\" class=\"dataframe\">\n",
       "  <thead>\n",
       "    <tr style=\"text-align: right;\">\n",
       "      <th></th>\n",
       "      <th>Liquor points</th>\n",
       "      <th>Restaurants</th>\n",
       "    </tr>\n",
       "    <tr>\n",
       "      <th>Neighborhood</th>\n",
       "      <th></th>\n",
       "      <th></th>\n",
       "    </tr>\n",
       "  </thead>\n",
       "  <tbody>\n",
       "    <tr>\n",
       "      <th>Alcantara</th>\n",
       "      <td>6</td>\n",
       "      <td>23</td>\n",
       "    </tr>\n",
       "    <tr>\n",
       "      <th>Alonso de Camargo</th>\n",
       "      <td>3</td>\n",
       "      <td>13</td>\n",
       "    </tr>\n",
       "    <tr>\n",
       "      <th>Alonso de Cordova</th>\n",
       "      <td>4</td>\n",
       "      <td>23</td>\n",
       "    </tr>\n",
       "    <tr>\n",
       "      <th>Alto Las Condes</th>\n",
       "      <td>2</td>\n",
       "      <td>25</td>\n",
       "    </tr>\n",
       "    <tr>\n",
       "      <th>Camino el Alba</th>\n",
       "      <td>0</td>\n",
       "      <td>1</td>\n",
       "    </tr>\n",
       "  </tbody>\n",
       "</table>\n",
       "</div>"
      ],
      "text/plain": [
       "                   Liquor points  Restaurants\n",
       "Neighborhood                                 \n",
       "Alcantara                      6           23\n",
       "Alonso de Camargo              3           13\n",
       "Alonso de Cordova              4           23\n",
       "Alto Las Condes                2           25\n",
       "Camino el Alba                 0            1"
      ]
     },
     "execution_count": 31,
     "metadata": {},
     "output_type": "execute_result"
    }
   ],
   "source": [
    "df2 = LC_test[LC_test.values.sum(axis=1) != 0]\n",
    "df2.head()"
   ]
  },
  {
   "cell_type": "markdown",
   "metadata": {},
   "source": [
    "Looking good. So now we have all the neighborhoods and the number of restaurants and liquor outlets within a radius of 800 meters.\n",
    "This concludes the data collection phase - we are now ready to use this data for analysis and produce the report on optimal locations for a new liquor store!"
   ]
  },
  {
   "cell_type": "markdown",
   "metadata": {},
   "source": [
    "## Methodology <a name=\"methodology\"></a>"
   ]
  },
  {
   "cell_type": "markdown",
   "metadata": {},
   "source": [
    "In this project we will endeavor to detect the areas of the Las Condes commune that have a low proportion of liquor stores compared to restaurants. Our analysis will focus on the entire communal area, corresponding to approximately 44 km2 and for each neighborhood a radius of 800 meters will be used for the analysis, corresponding to a \"walkable\" distance.\n",
    "In the first step, we have collected and cleaned the required data: location and type (category) of each restaurant and bar\n",
    " within 0.8 km of the center of each neighborhood. In addition, we have identified the number of restaurants and alcohol outlets in that area.\n",
    "The second step in our analysis will be the calculation of the \"ratio between the number of liquor stores and restaurants plus liquor stores\" in the different areas of the commune.\n",
    "\n",
    "We will use clustering to identify some promising areas near downtown with a low number of restaurants overall (and no liquor stores near restaurants and residential areas) and focus our attention on those areas. We will focus on understanding the characteristics of each cluster and its pros and cons regarding the installation of a liquor store. We will present a map with the clusters where the geographic and data-based similarity can be evidenced, which will allow the stakeholder to be a starting point for the detailed exploration of the specific point where to install the liquor store.\n",
    "\n",
    "In the third and final step, we will use a combination of the clusters and heat maps with the density of services in each zone to determine the appropriate balance that is convenient for the installation of a new liquor store. To do this, the data will be filtered appropriately to discard through the process those areas that are not suitable for one reason or another."
   ]
  },
  {
   "cell_type": "markdown",
   "metadata": {},
   "source": [
    "### Clusterization\n",
    "The null columns filtered dataframe is used to perform the clustering. The number of clusters with the best results is defined based on the number of neighborhoods that were used."
   ]
  },
  {
   "cell_type": "code",
   "execution_count": 32,
   "metadata": {},
   "outputs": [],
   "source": [
    "kclusters = 6\n",
    "kmeans = KMeans(n_clusters=kclusters, random_state=0).fit(df2)"
   ]
  },
  {
   "cell_type": "code",
   "execution_count": 33,
   "metadata": {},
   "outputs": [],
   "source": [
    "df2.insert(0, 'Cluster Labels', kmeans.labels_)\n",
    "df2.reset_index(inplace=True)"
   ]
  },
  {
   "cell_type": "code",
   "execution_count": 34,
   "metadata": {},
   "outputs": [],
   "source": [
    "columnas = df2['Neighborhood'].tolist()"
   ]
  },
  {
   "cell_type": "markdown",
   "metadata": {},
   "source": [
    "Here, df is the initial dataframe that contains all the neighborhoods and their coordinates. df2 is the filtered dataframe for the studied neighborhoods, therefore, the number of rows it contains is less than or equal to that of df. That is why this last dataframe is filtered so that the rows that contain both are the same and then be able to do the concatenation"
   ]
  },
  {
   "cell_type": "code",
   "execution_count": 35,
   "metadata": {},
   "outputs": [
    {
     "data": {
      "text/html": [
       "<div>\n",
       "<style scoped>\n",
       "    .dataframe tbody tr th:only-of-type {\n",
       "        vertical-align: middle;\n",
       "    }\n",
       "\n",
       "    .dataframe tbody tr th {\n",
       "        vertical-align: top;\n",
       "    }\n",
       "\n",
       "    .dataframe thead th {\n",
       "        text-align: right;\n",
       "    }\n",
       "</style>\n",
       "<table border=\"1\" class=\"dataframe\">\n",
       "  <thead>\n",
       "    <tr style=\"text-align: right;\">\n",
       "      <th></th>\n",
       "      <th>Neighborhood</th>\n",
       "      <th>Latitude</th>\n",
       "      <th>Longitude</th>\n",
       "    </tr>\n",
       "  </thead>\n",
       "  <tbody>\n",
       "    <tr>\n",
       "      <th>0</th>\n",
       "      <td>El Golf</td>\n",
       "      <td>-33.41351</td>\n",
       "      <td>-70.59865</td>\n",
       "    </tr>\n",
       "    <tr>\n",
       "      <th>1</th>\n",
       "      <td>Alcantara</td>\n",
       "      <td>-33.42049</td>\n",
       "      <td>-70.58826</td>\n",
       "    </tr>\n",
       "    <tr>\n",
       "      <th>2</th>\n",
       "      <td>Vaticano</td>\n",
       "      <td>-33.42700</td>\n",
       "      <td>-70.58270</td>\n",
       "    </tr>\n",
       "    <tr>\n",
       "      <th>3</th>\n",
       "      <td>Plaza La Concordia</td>\n",
       "      <td>-33.42805</td>\n",
       "      <td>-70.56973</td>\n",
       "    </tr>\n",
       "    <tr>\n",
       "      <th>4</th>\n",
       "      <td>Sebastian Elcano Central</td>\n",
       "      <td>-33.42126</td>\n",
       "      <td>-70.57082</td>\n",
       "    </tr>\n",
       "  </tbody>\n",
       "</table>\n",
       "</div>"
      ],
      "text/plain": [
       "               Neighborhood  Latitude  Longitude\n",
       "0                   El Golf -33.41351  -70.59865\n",
       "1                 Alcantara -33.42049  -70.58826\n",
       "2                  Vaticano -33.42700  -70.58270\n",
       "3        Plaza La Concordia -33.42805  -70.56973\n",
       "4  Sebastian Elcano Central -33.42126  -70.57082"
      ]
     },
     "execution_count": 35,
     "metadata": {},
     "output_type": "execute_result"
    }
   ],
   "source": [
    "df = df[df['Neighborhood'].isin(columnas)].reset_index(drop=True)\n",
    "df.head()"
   ]
  },
  {
   "cell_type": "markdown",
   "metadata": {},
   "source": [
    "## Analysis <a name=\"analysis\"></a>"
   ]
  },
  {
   "cell_type": "markdown",
   "metadata": {},
   "source": [
    "The union of both dataframes is carried out in order to handle the complete information (coordinates, assigned cluster, number of liquor stores and restaurants).\n",
    "\n",
    "In addition, a new column called \"Ratio %\" is created, this represents the percentage of liquor stores out of the total liquor stores + restaurants found in the radius defined from the center of each neighborhood. This ratio will be very useful since it will allow you to easily observe the proportion of existing liquor stores for each restaurant in each neighborhood, a value that, when decreasing, makes the opening of a new liquor store more attractive."
   ]
  },
  {
   "cell_type": "code",
   "execution_count": 36,
   "metadata": {},
   "outputs": [],
   "source": [
    "merged = df\n",
    "merged = merged.join(df2.set_index('Neighborhood'), on='Neighborhood').reset_index(drop=True)\n",
    "merged['Ratio %'] = round(merged['Liquor points']*100/(merged['Liquor points']+merged['Restaurants']),1)"
   ]
  },
  {
   "cell_type": "code",
   "execution_count": 37,
   "metadata": {},
   "outputs": [
    {
     "data": {
      "text/html": [
       "<div>\n",
       "<style scoped>\n",
       "    .dataframe tbody tr th:only-of-type {\n",
       "        vertical-align: middle;\n",
       "    }\n",
       "\n",
       "    .dataframe tbody tr th {\n",
       "        vertical-align: top;\n",
       "    }\n",
       "\n",
       "    .dataframe thead th {\n",
       "        text-align: right;\n",
       "    }\n",
       "</style>\n",
       "<table border=\"1\" class=\"dataframe\">\n",
       "  <thead>\n",
       "    <tr style=\"text-align: right;\">\n",
       "      <th></th>\n",
       "      <th>Neighborhood</th>\n",
       "      <th>Latitude</th>\n",
       "      <th>Longitude</th>\n",
       "      <th>Cluster Labels</th>\n",
       "      <th>Liquor points</th>\n",
       "      <th>Restaurants</th>\n",
       "      <th>Ratio %</th>\n",
       "    </tr>\n",
       "  </thead>\n",
       "  <tbody>\n",
       "    <tr>\n",
       "      <th>0</th>\n",
       "      <td>El Golf</td>\n",
       "      <td>-33.41351</td>\n",
       "      <td>-70.59865</td>\n",
       "      <td>1</td>\n",
       "      <td>4</td>\n",
       "      <td>27</td>\n",
       "      <td>4.6</td>\n",
       "    </tr>\n",
       "    <tr>\n",
       "      <th>1</th>\n",
       "      <td>Alcantara</td>\n",
       "      <td>-33.42049</td>\n",
       "      <td>-70.58826</td>\n",
       "      <td>1</td>\n",
       "      <td>6</td>\n",
       "      <td>23</td>\n",
       "      <td>3.0</td>\n",
       "    </tr>\n",
       "    <tr>\n",
       "      <th>2</th>\n",
       "      <td>Vaticano</td>\n",
       "      <td>-33.42700</td>\n",
       "      <td>-70.58270</td>\n",
       "      <td>4</td>\n",
       "      <td>4</td>\n",
       "      <td>15</td>\n",
       "      <td>7.6</td>\n",
       "    </tr>\n",
       "    <tr>\n",
       "      <th>3</th>\n",
       "      <td>Plaza La Concordia</td>\n",
       "      <td>-33.42805</td>\n",
       "      <td>-70.56973</td>\n",
       "      <td>2</td>\n",
       "      <td>6</td>\n",
       "      <td>11</td>\n",
       "      <td>5.2</td>\n",
       "    </tr>\n",
       "    <tr>\n",
       "      <th>4</th>\n",
       "      <td>Sebastian Elcano Central</td>\n",
       "      <td>-33.42126</td>\n",
       "      <td>-70.57082</td>\n",
       "      <td>4</td>\n",
       "      <td>3</td>\n",
       "      <td>16</td>\n",
       "      <td>2.3</td>\n",
       "    </tr>\n",
       "  </tbody>\n",
       "</table>\n",
       "</div>"
      ],
      "text/plain": [
       "               Neighborhood  Latitude  Longitude  Cluster Labels  \\\n",
       "0                   El Golf -33.41351  -70.59865               1   \n",
       "1                 Alcantara -33.42049  -70.58826               1   \n",
       "2                  Vaticano -33.42700  -70.58270               4   \n",
       "3        Plaza La Concordia -33.42805  -70.56973               2   \n",
       "4  Sebastian Elcano Central -33.42126  -70.57082               4   \n",
       "\n",
       "   Liquor points  Restaurants  Ratio %  \n",
       "0              4           27      4.6  \n",
       "1              6           23      3.0  \n",
       "2              4           15      7.6  \n",
       "3              6           11      5.2  \n",
       "4              3           16      2.3  "
      ]
     },
     "execution_count": 37,
     "metadata": {},
     "output_type": "execute_result"
    }
   ],
   "source": [
    "merged.head()"
   ]
  },
  {
   "cell_type": "markdown",
   "metadata": {},
   "source": [
    "Then the points are plotted on the map, with the color corresponding to each cluster. Here you can see the spatial distribution of the different sets and when positioned on the point, attributes such as the name of the neighborhood, the assigned cluster and the percentage ratio are displayed"
   ]
  },
  {
   "cell_type": "code",
   "execution_count": 54,
   "metadata": {},
   "outputs": [
    {
     "data": {
      "text/html": [
       "<div style=\"width:100%;\"><div style=\"position:relative;width:100%;height:0;padding-bottom:60%;\"><span style=\"color:#565656\">Make this Notebook Trusted to load map: File -> Trust Notebook</span><iframe src=\"about:blank\" style=\"position:absolute;width:100%;height:100%;left:0;top:0;border:none !important;\" data-html=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 onload=\"this.contentDocument.open();this.contentDocument.write(atob(this.getAttribute('data-html')));this.contentDocument.close();\" allowfullscreen webkitallowfullscreen mozallowfullscreen></iframe></div></div>"
      ],
      "text/plain": [
       "<folium.folium.Map at 0x7ff95177de10>"
      ]
     },
     "execution_count": 54,
     "metadata": {},
     "output_type": "execute_result"
    }
   ],
   "source": [
    "map_clusters = folium.Map(location=[latitude, longitude], zoom_start=13)\n",
    "\n",
    "# set color scheme for the clusters\n",
    "x = np.arange(kclusters)\n",
    "ys = [i + x + (i*x)**2 for i in range(kclusters)]\n",
    "colors_array = cm.rainbow(np.linspace(0, 1, len(ys)))\n",
    "rainbow = [colors.rgb2hex(i) for i in colors_array]\n",
    "\n",
    "# add markers to the map\n",
    "markers_colors = []\n",
    "for lat, lon, poi, cluster,r in zip(merged['Latitude'],merged['Longitude'],merged['Neighborhood'],merged['Cluster Labels'],merged['Ratio %']):\n",
    "    label = folium.Popup(str(poi) + ' Cluster ' + str(cluster) + ' Ratio ' + str(r)+'%', parse_html=True)\n",
    "    folium.CircleMarker(\n",
    "        [lat, lon],\n",
    "        radius=5,\n",
    "        popup=label,\n",
    "        color=rainbow[cluster-1],\n",
    "        fill=True,\n",
    "        fill_color=rainbow[cluster-1],\n",
    "        fill_opacity=0.7).add_to(map_clusters)\n",
    "       \n",
    "map_clusters"
   ]
  },
  {
   "cell_type": "markdown",
   "metadata": {},
   "source": [
    "It can be noted that when using 6 clusters the distribution of the neighborhoods is quite equitable. There is a single cluster that contains a single neighborhood, corresponding to \"Roncesvalles\".\n",
    "\n",
    "Finally, we filter each cluster to visualize its attributes and they are also ordered in increasing order with respect to the ratio. With this, the characteristics of each cluster can be observed, which will be analyzed later."
   ]
  },
  {
   "cell_type": "code",
   "execution_count": 39,
   "metadata": {},
   "outputs": [
    {
     "data": {
      "text/html": [
       "<div>\n",
       "<style scoped>\n",
       "    .dataframe tbody tr th:only-of-type {\n",
       "        vertical-align: middle;\n",
       "    }\n",
       "\n",
       "    .dataframe tbody tr th {\n",
       "        vertical-align: top;\n",
       "    }\n",
       "\n",
       "    .dataframe thead th {\n",
       "        text-align: right;\n",
       "    }\n",
       "</style>\n",
       "<table border=\"1\" class=\"dataframe\">\n",
       "  <thead>\n",
       "    <tr style=\"text-align: right;\">\n",
       "      <th></th>\n",
       "      <th>Neighborhood</th>\n",
       "      <th>Liquor points</th>\n",
       "      <th>Restaurants</th>\n",
       "      <th>Ratio %</th>\n",
       "    </tr>\n",
       "  </thead>\n",
       "  <tbody>\n",
       "    <tr>\n",
       "      <th>22</th>\n",
       "      <td>San Carlos de Apoquindo norte</td>\n",
       "      <td>0</td>\n",
       "      <td>3</td>\n",
       "      <td>0.0</td>\n",
       "    </tr>\n",
       "    <tr>\n",
       "      <th>25</th>\n",
       "      <td>Quinchamali</td>\n",
       "      <td>3</td>\n",
       "      <td>3</td>\n",
       "      <td>7.3</td>\n",
       "    </tr>\n",
       "    <tr>\n",
       "      <th>23</th>\n",
       "      <td>Estoril</td>\n",
       "      <td>1</td>\n",
       "      <td>6</td>\n",
       "      <td>14.3</td>\n",
       "    </tr>\n",
       "    <tr>\n",
       "      <th>21</th>\n",
       "      <td>San Carlos de Apoquindo</td>\n",
       "      <td>1</td>\n",
       "      <td>4</td>\n",
       "      <td>20.0</td>\n",
       "    </tr>\n",
       "  </tbody>\n",
       "</table>\n",
       "</div>"
      ],
      "text/plain": [
       "                     Neighborhood  Liquor points  Restaurants  Ratio %\n",
       "22  San Carlos de Apoquindo norte              0            3      0.0\n",
       "25                    Quinchamali              3            3      7.3\n",
       "23                        Estoril              1            6     14.3\n",
       "21        San Carlos de Apoquindo              1            4     20.0"
      ]
     },
     "execution_count": 39,
     "metadata": {},
     "output_type": "execute_result"
    }
   ],
   "source": [
    "c0 = merged.loc[merged['Cluster Labels'] == 0,merged.columns[[0]+list(range(4,7))]].sort_values(by=['Ratio %'])\n",
    "c0"
   ]
  },
  {
   "cell_type": "markdown",
   "metadata": {},
   "source": [
    "Cluster 0 contains neighborhoods with a low density of services. This can be seen by the low number of restaurants and liquor stores in general.\n",
    "Regarding the ratio, it is observed from 0% to 100% which shows that this is not the main attribute of the cluster, but rather the low amount of services for being a purely residential neighborhood with a high socioeconomic level"
   ]
  },
  {
   "cell_type": "code",
   "execution_count": 40,
   "metadata": {},
   "outputs": [
    {
     "data": {
      "text/html": [
       "<div>\n",
       "<style scoped>\n",
       "    .dataframe tbody tr th:only-of-type {\n",
       "        vertical-align: middle;\n",
       "    }\n",
       "\n",
       "    .dataframe tbody tr th {\n",
       "        vertical-align: top;\n",
       "    }\n",
       "\n",
       "    .dataframe thead th {\n",
       "        text-align: right;\n",
       "    }\n",
       "</style>\n",
       "<table border=\"1\" class=\"dataframe\">\n",
       "  <thead>\n",
       "    <tr style=\"text-align: right;\">\n",
       "      <th></th>\n",
       "      <th>Neighborhood</th>\n",
       "      <th>Liquor points</th>\n",
       "      <th>Restaurants</th>\n",
       "      <th>Ratio %</th>\n",
       "    </tr>\n",
       "  </thead>\n",
       "  <tbody>\n",
       "    <tr>\n",
       "      <th>1</th>\n",
       "      <td>Alcantara</td>\n",
       "      <td>6</td>\n",
       "      <td>23</td>\n",
       "      <td>3.0</td>\n",
       "    </tr>\n",
       "    <tr>\n",
       "      <th>12</th>\n",
       "      <td>Padre Errazuriz</td>\n",
       "      <td>1</td>\n",
       "      <td>23</td>\n",
       "      <td>4.2</td>\n",
       "    </tr>\n",
       "    <tr>\n",
       "      <th>0</th>\n",
       "      <td>El Golf</td>\n",
       "      <td>4</td>\n",
       "      <td>27</td>\n",
       "      <td>4.6</td>\n",
       "    </tr>\n",
       "    <tr>\n",
       "      <th>5</th>\n",
       "      <td>Plaza del Inca</td>\n",
       "      <td>4</td>\n",
       "      <td>27</td>\n",
       "      <td>4.6</td>\n",
       "    </tr>\n",
       "    <tr>\n",
       "      <th>6</th>\n",
       "      <td>Alonso de Cordova</td>\n",
       "      <td>4</td>\n",
       "      <td>23</td>\n",
       "      <td>5.3</td>\n",
       "    </tr>\n",
       "    <tr>\n",
       "      <th>14</th>\n",
       "      <td>Alto Las Condes</td>\n",
       "      <td>2</td>\n",
       "      <td>25</td>\n",
       "      <td>7.4</td>\n",
       "    </tr>\n",
       "  </tbody>\n",
       "</table>\n",
       "</div>"
      ],
      "text/plain": [
       "         Neighborhood  Liquor points  Restaurants  Ratio %\n",
       "1           Alcantara              6           23      3.0\n",
       "12    Padre Errazuriz              1           23      4.2\n",
       "0             El Golf              4           27      4.6\n",
       "5      Plaza del Inca              4           27      4.6\n",
       "6   Alonso de Cordova              4           23      5.3\n",
       "14    Alto Las Condes              2           25      7.4"
      ]
     },
     "execution_count": 40,
     "metadata": {},
     "output_type": "execute_result"
    }
   ],
   "source": [
    "c1 = merged.loc[merged['Cluster Labels'] == 1,merged.columns[[0]+list(range(4,7))]].sort_values(by=['Ratio %'])\n",
    "c1"
   ]
  },
  {
   "cell_type": "markdown",
   "metadata": {},
   "source": [
    "Cluster 1 corresponds to neighborhoods with a large number of restaurants compared to liquor stores. This translates into lower ratios of between 1.6 to 7.4%. Therefore, they are attractive neighborhoods for the installation of a liquor store, since many people pass through them daily and have movement both day and night"
   ]
  },
  {
   "cell_type": "code",
   "execution_count": 41,
   "metadata": {},
   "outputs": [
    {
     "data": {
      "text/html": [
       "<div>\n",
       "<style scoped>\n",
       "    .dataframe tbody tr th:only-of-type {\n",
       "        vertical-align: middle;\n",
       "    }\n",
       "\n",
       "    .dataframe tbody tr th {\n",
       "        vertical-align: top;\n",
       "    }\n",
       "\n",
       "    .dataframe thead th {\n",
       "        text-align: right;\n",
       "    }\n",
       "</style>\n",
       "<table border=\"1\" class=\"dataframe\">\n",
       "  <thead>\n",
       "    <tr style=\"text-align: right;\">\n",
       "      <th></th>\n",
       "      <th>Neighborhood</th>\n",
       "      <th>Liquor points</th>\n",
       "      <th>Restaurants</th>\n",
       "      <th>Ratio %</th>\n",
       "    </tr>\n",
       "  </thead>\n",
       "  <tbody>\n",
       "    <tr>\n",
       "      <th>9</th>\n",
       "      <td>Alonso de Camargo</td>\n",
       "      <td>3</td>\n",
       "      <td>13</td>\n",
       "      <td>2.8</td>\n",
       "    </tr>\n",
       "    <tr>\n",
       "      <th>17</th>\n",
       "      <td>Rio Guadiana</td>\n",
       "      <td>3</td>\n",
       "      <td>13</td>\n",
       "      <td>2.8</td>\n",
       "    </tr>\n",
       "    <tr>\n",
       "      <th>10</th>\n",
       "      <td>Rotonda Atenas</td>\n",
       "      <td>3</td>\n",
       "      <td>11</td>\n",
       "      <td>3.1</td>\n",
       "    </tr>\n",
       "    <tr>\n",
       "      <th>3</th>\n",
       "      <td>Plaza La Concordia</td>\n",
       "      <td>6</td>\n",
       "      <td>11</td>\n",
       "      <td>5.2</td>\n",
       "    </tr>\n",
       "    <tr>\n",
       "      <th>24</th>\n",
       "      <td>Los Frailes</td>\n",
       "      <td>1</td>\n",
       "      <td>12</td>\n",
       "      <td>7.7</td>\n",
       "    </tr>\n",
       "    <tr>\n",
       "      <th>8</th>\n",
       "      <td>Latadia</td>\n",
       "      <td>1</td>\n",
       "      <td>10</td>\n",
       "      <td>9.1</td>\n",
       "    </tr>\n",
       "    <tr>\n",
       "      <th>15</th>\n",
       "      <td>Los Dominicos</td>\n",
       "      <td>4</td>\n",
       "      <td>11</td>\n",
       "      <td>9.6</td>\n",
       "    </tr>\n",
       "  </tbody>\n",
       "</table>\n",
       "</div>"
      ],
      "text/plain": [
       "          Neighborhood  Liquor points  Restaurants  Ratio %\n",
       "9    Alonso de Camargo              3           13      2.8\n",
       "17        Rio Guadiana              3           13      2.8\n",
       "10      Rotonda Atenas              3           11      3.1\n",
       "3   Plaza La Concordia              6           11      5.2\n",
       "24         Los Frailes              1           12      7.7\n",
       "8              Latadia              1           10      9.1\n",
       "15       Los Dominicos              4           11      9.6"
      ]
     },
     "execution_count": 41,
     "metadata": {},
     "output_type": "execute_result"
    }
   ],
   "source": [
    "c2 = merged.loc[merged['Cluster Labels'] == 2,merged.columns[[0]+list(range(4,7))]].sort_values(by=['Ratio %'])\n",
    "c2"
   ]
  },
  {
   "cell_type": "markdown",
   "metadata": {},
   "source": [
    "Cluster 2 is characterized by a certain similarity with cluster 1, only with a smaller number of restaurants. Likewise, the ratios remain at low levels (between 2.8 and 16.7%), making them attractive for the installation of a liquor store."
   ]
  },
  {
   "cell_type": "code",
   "execution_count": 42,
   "metadata": {},
   "outputs": [
    {
     "data": {
      "text/html": [
       "<div>\n",
       "<style scoped>\n",
       "    .dataframe tbody tr th:only-of-type {\n",
       "        vertical-align: middle;\n",
       "    }\n",
       "\n",
       "    .dataframe tbody tr th {\n",
       "        vertical-align: top;\n",
       "    }\n",
       "\n",
       "    .dataframe thead th {\n",
       "        text-align: right;\n",
       "    }\n",
       "</style>\n",
       "<table border=\"1\" class=\"dataframe\">\n",
       "  <thead>\n",
       "    <tr style=\"text-align: right;\">\n",
       "      <th></th>\n",
       "      <th>Neighborhood</th>\n",
       "      <th>Liquor points</th>\n",
       "      <th>Restaurants</th>\n",
       "      <th>Ratio %</th>\n",
       "    </tr>\n",
       "  </thead>\n",
       "  <tbody>\n",
       "    <tr>\n",
       "      <th>13</th>\n",
       "      <td>Roncesvalles</td>\n",
       "      <td>6</td>\n",
       "      <td>36</td>\n",
       "      <td>2.1</td>\n",
       "    </tr>\n",
       "  </tbody>\n",
       "</table>\n",
       "</div>"
      ],
      "text/plain": [
       "    Neighborhood  Liquor points  Restaurants  Ratio %\n",
       "13  Roncesvalles              6           36      2.1"
      ]
     },
     "execution_count": 42,
     "metadata": {},
     "output_type": "execute_result"
    }
   ],
   "source": [
    "c3 = merged.loc[merged['Cluster Labels'] == 3,merged.columns[[0]+list(range(4,7))]].sort_values(by=['Ratio %'])\n",
    "c3"
   ]
  },
  {
   "cell_type": "code",
   "execution_count": 43,
   "metadata": {},
   "outputs": [
    {
     "data": {
      "text/html": [
       "<div>\n",
       "<style scoped>\n",
       "    .dataframe tbody tr th:only-of-type {\n",
       "        vertical-align: middle;\n",
       "    }\n",
       "\n",
       "    .dataframe tbody tr th {\n",
       "        vertical-align: top;\n",
       "    }\n",
       "\n",
       "    .dataframe thead th {\n",
       "        text-align: right;\n",
       "    }\n",
       "</style>\n",
       "<table border=\"1\" class=\"dataframe\">\n",
       "  <thead>\n",
       "    <tr style=\"text-align: right;\">\n",
       "      <th></th>\n",
       "      <th>Neighborhood</th>\n",
       "      <th>Liquor points</th>\n",
       "      <th>Restaurants</th>\n",
       "      <th>Ratio %</th>\n",
       "    </tr>\n",
       "  </thead>\n",
       "  <tbody>\n",
       "    <tr>\n",
       "      <th>11</th>\n",
       "      <td>Presidente Riesco</td>\n",
       "      <td>0</td>\n",
       "      <td>17</td>\n",
       "      <td>0.0</td>\n",
       "    </tr>\n",
       "    <tr>\n",
       "      <th>4</th>\n",
       "      <td>Sebastian Elcano Central</td>\n",
       "      <td>3</td>\n",
       "      <td>16</td>\n",
       "      <td>2.3</td>\n",
       "    </tr>\n",
       "    <tr>\n",
       "      <th>7</th>\n",
       "      <td>Parque Araucano</td>\n",
       "      <td>4</td>\n",
       "      <td>18</td>\n",
       "      <td>6.5</td>\n",
       "    </tr>\n",
       "    <tr>\n",
       "      <th>2</th>\n",
       "      <td>Vaticano</td>\n",
       "      <td>4</td>\n",
       "      <td>15</td>\n",
       "      <td>7.6</td>\n",
       "    </tr>\n",
       "  </tbody>\n",
       "</table>\n",
       "</div>"
      ],
      "text/plain": [
       "                Neighborhood  Liquor points  Restaurants  Ratio %\n",
       "11         Presidente Riesco              0           17      0.0\n",
       "4   Sebastian Elcano Central              3           16      2.3\n",
       "7            Parque Araucano              4           18      6.5\n",
       "2                   Vaticano              4           15      7.6"
      ]
     },
     "execution_count": 43,
     "metadata": {},
     "output_type": "execute_result"
    }
   ],
   "source": [
    "c4 = merged.loc[merged['Cluster Labels'] == 4,merged.columns[[0]+list(range(4,7))]].sort_values(by=['Ratio %'])\n",
    "c4"
   ]
  },
  {
   "cell_type": "code",
   "execution_count": 44,
   "metadata": {},
   "outputs": [
    {
     "data": {
      "text/html": [
       "<div>\n",
       "<style scoped>\n",
       "    .dataframe tbody tr th:only-of-type {\n",
       "        vertical-align: middle;\n",
       "    }\n",
       "\n",
       "    .dataframe tbody tr th {\n",
       "        vertical-align: top;\n",
       "    }\n",
       "\n",
       "    .dataframe thead th {\n",
       "        text-align: right;\n",
       "    }\n",
       "</style>\n",
       "<table border=\"1\" class=\"dataframe\">\n",
       "  <thead>\n",
       "    <tr style=\"text-align: right;\">\n",
       "      <th></th>\n",
       "      <th>Neighborhood</th>\n",
       "      <th>Liquor points</th>\n",
       "      <th>Restaurants</th>\n",
       "      <th>Ratio %</th>\n",
       "    </tr>\n",
       "  </thead>\n",
       "  <tbody>\n",
       "    <tr>\n",
       "      <th>26</th>\n",
       "      <td>Camino el Alba</td>\n",
       "      <td>0</td>\n",
       "      <td>1</td>\n",
       "      <td>0.0</td>\n",
       "    </tr>\n",
       "    <tr>\n",
       "      <th>18</th>\n",
       "      <td>Padre Hurtado Sur</td>\n",
       "      <td>3</td>\n",
       "      <td>2</td>\n",
       "      <td>8.8</td>\n",
       "    </tr>\n",
       "    <tr>\n",
       "      <th>20</th>\n",
       "      <td>San Carlos de Apoquindo sur</td>\n",
       "      <td>2</td>\n",
       "      <td>2</td>\n",
       "      <td>50.0</td>\n",
       "    </tr>\n",
       "    <tr>\n",
       "      <th>16</th>\n",
       "      <td>Charles Hamilton</td>\n",
       "      <td>1</td>\n",
       "      <td>0</td>\n",
       "      <td>100.0</td>\n",
       "    </tr>\n",
       "    <tr>\n",
       "      <th>19</th>\n",
       "      <td>Vital Apoquindo</td>\n",
       "      <td>1</td>\n",
       "      <td>0</td>\n",
       "      <td>100.0</td>\n",
       "    </tr>\n",
       "  </tbody>\n",
       "</table>\n",
       "</div>"
      ],
      "text/plain": [
       "                   Neighborhood  Liquor points  Restaurants  Ratio %\n",
       "26               Camino el Alba              0            1      0.0\n",
       "18            Padre Hurtado Sur              3            2      8.8\n",
       "20  San Carlos de Apoquindo sur              2            2     50.0\n",
       "16             Charles Hamilton              1            0    100.0\n",
       "19              Vital Apoquindo              1            0    100.0"
      ]
     },
     "execution_count": 44,
     "metadata": {},
     "output_type": "execute_result"
    }
   ],
   "source": [
    "c5 = merged.loc[merged['Cluster Labels'] == 5,merged.columns[[0]+list(range(4,7))]].sort_values(by=['Ratio %'])\n",
    "c5"
   ]
  },
  {
   "cell_type": "markdown",
   "metadata": {},
   "source": [
    "Finally, cluster 5 presents the greatest stability between liquor stores and restaurants, making them unattractive from the perspective of the percentage ratio.\n",
    "\n"
   ]
  },
  {
   "cell_type": "code",
   "execution_count": 55,
   "metadata": {},
   "outputs": [
    {
     "data": {
      "text/plain": [
       "[Text(0.5, 0, 'Neighborhood')]"
      ]
     },
     "execution_count": 55,
     "metadata": {},
     "output_type": "execute_result"
    },
    {
     "data": {
      "image/png": "[encoded data removed]",
      "text/plain": [
       "<Figure size 1224x216 with 3 Axes>"
      ]
     },
     "metadata": {
      "needs_background": "light"
     },
     "output_type": "display_data"
    }
   ],
   "source": [
    "plt.rcParams.update({'font.size': 9})\n",
    "fig, axes = plt.subplots(nrows=1, ncols=3, figsize = (17,3), sharey=True)\n",
    "c0.set_index('Neighborhood')['Ratio %'].plot(ax=axes[0], kind='bar').set_title('Cluster 0', alpha = 0.75)\n",
    "c1.set_index('Neighborhood')['Ratio %'].plot(ax=axes[1], kind='bar').set_title('Cluster 1', alpha = 0.75)\n",
    "c2.set_index('Neighborhood')['Ratio %'].plot(ax=axes[2], kind='bar').set_title('Cluster 2', alpha = 0.75)\n",
    "\n",
    "plt.setp(axes[0], ylabel='Ratio %')\n",
    "plt.setp(axes[1], xlabel='Neighborhood')"
   ]
  },
  {
   "cell_type": "code",
   "execution_count": 53,
   "metadata": {},
   "outputs": [
    {
     "data": {
      "text/plain": [
       "[Text(0.5, 0, 'Neighborhood')]"
      ]
     },
     "execution_count": 53,
     "metadata": {},
     "output_type": "execute_result"
    },
    {
     "data": {
      "image/png": "[encoded data removed]",
      "text/plain": [
       "<Figure size 1224x216 with 3 Axes>"
      ]
     },
     "metadata": {
      "needs_background": "light"
     },
     "output_type": "display_data"
    }
   ],
   "source": [
    "fig, axes = plt.subplots(nrows=1, ncols=3, figsize = (17,3),sharey=True)\n",
    "c3.set_index('Neighborhood')['Ratio %'].plot(ax=axes[0], kind='bar').set_title('Cluster 3', alpha = 0.75)\n",
    "c4.set_index('Neighborhood')['Ratio %'].plot(ax=axes[1], kind='bar').set_title('Cluster 4', alpha = 0.75)\n",
    "c5.set_index('Neighborhood')['Ratio %'].plot(ax=axes[2], kind='bar').set_title('Cluster 5', alpha = 0.75)\n",
    "plt.setp(axes[0], ylabel='Ratio %')\n",
    "plt.setp(axes[1], xlabel='Neighborhood')"
   ]
  },
  {
   "cell_type": "markdown",
   "metadata": {},
   "source": [
    "\n",
    "In a preliminary way, it is concluded that the most attractive clusters would be **1 and 4**."
   ]
  },
  {
   "cell_type": "markdown",
   "metadata": {},
   "source": [
    "### Extra analysis"
   ]
  },
  {
   "cell_type": "markdown",
   "metadata": {},
   "source": [
    "Next, the neighborhoods whose ratio is less than 10% are filtered"
   ]
  },
  {
   "cell_type": "code",
   "execution_count": 39,
   "metadata": {},
   "outputs": [
    {
     "data": {
      "text/html": [
       "<div>\n",
       "<style scoped>\n",
       "    .dataframe tbody tr th:only-of-type {\n",
       "        vertical-align: middle;\n",
       "    }\n",
       "\n",
       "    .dataframe tbody tr th {\n",
       "        vertical-align: top;\n",
       "    }\n",
       "\n",
       "    .dataframe thead th {\n",
       "        text-align: right;\n",
       "    }\n",
       "</style>\n",
       "<table border=\"1\" class=\"dataframe\">\n",
       "  <thead>\n",
       "    <tr style=\"text-align: right;\">\n",
       "      <th></th>\n",
       "      <th>Neighborhood</th>\n",
       "      <th>Latitude</th>\n",
       "      <th>Longitude</th>\n",
       "      <th>Cluster Labels</th>\n",
       "      <th>Liquor points</th>\n",
       "      <th>Restaurants</th>\n",
       "      <th>Ratio %</th>\n",
       "    </tr>\n",
       "  </thead>\n",
       "  <tbody>\n",
       "    <tr>\n",
       "      <th>26</th>\n",
       "      <td>Camino el Alba</td>\n",
       "      <td>-33.40113</td>\n",
       "      <td>-70.52749</td>\n",
       "      <td>0</td>\n",
       "      <td>0</td>\n",
       "      <td>1</td>\n",
       "      <td>0.0</td>\n",
       "    </tr>\n",
       "    <tr>\n",
       "      <th>22</th>\n",
       "      <td>San Carlos de Apoquindo norte</td>\n",
       "      <td>-33.38751</td>\n",
       "      <td>-70.50101</td>\n",
       "      <td>0</td>\n",
       "      <td>0</td>\n",
       "      <td>2</td>\n",
       "      <td>0.0</td>\n",
       "    </tr>\n",
       "    <tr>\n",
       "      <th>6</th>\n",
       "      <td>Alonso de Cordova</td>\n",
       "      <td>-33.40692</td>\n",
       "      <td>-70.57391</td>\n",
       "      <td>1</td>\n",
       "      <td>3</td>\n",
       "      <td>25</td>\n",
       "      <td>1.6</td>\n",
       "    </tr>\n",
       "    <tr>\n",
       "      <th>13</th>\n",
       "      <td>Roncesvalles</td>\n",
       "      <td>-33.41246</td>\n",
       "      <td>-70.55896</td>\n",
       "      <td>3</td>\n",
       "      <td>6</td>\n",
       "      <td>35</td>\n",
       "      <td>2.1</td>\n",
       "    </tr>\n",
       "    <tr>\n",
       "      <th>9</th>\n",
       "      <td>Alonso de Camargo</td>\n",
       "      <td>-33.42135</td>\n",
       "      <td>-70.55833</td>\n",
       "      <td>2</td>\n",
       "      <td>3</td>\n",
       "      <td>13</td>\n",
       "      <td>2.8</td>\n",
       "    </tr>\n",
       "    <tr>\n",
       "      <th>1</th>\n",
       "      <td>Alcantara</td>\n",
       "      <td>-33.42049</td>\n",
       "      <td>-70.58826</td>\n",
       "      <td>1</td>\n",
       "      <td>6</td>\n",
       "      <td>23</td>\n",
       "      <td>3.0</td>\n",
       "    </tr>\n",
       "    <tr>\n",
       "      <th>10</th>\n",
       "      <td>Rotonda Atenas</td>\n",
       "      <td>-33.41802</td>\n",
       "      <td>-70.55301</td>\n",
       "      <td>2</td>\n",
       "      <td>3</td>\n",
       "      <td>11</td>\n",
       "      <td>3.1</td>\n",
       "    </tr>\n",
       "    <tr>\n",
       "      <th>12</th>\n",
       "      <td>Padre Errazuriz</td>\n",
       "      <td>-33.40369</td>\n",
       "      <td>-70.55331</td>\n",
       "      <td>1</td>\n",
       "      <td>1</td>\n",
       "      <td>24</td>\n",
       "      <td>4.0</td>\n",
       "    </tr>\n",
       "    <tr>\n",
       "      <th>5</th>\n",
       "      <td>Plaza del Inca</td>\n",
       "      <td>-33.41328</td>\n",
       "      <td>-70.57116</td>\n",
       "      <td>1</td>\n",
       "      <td>4</td>\n",
       "      <td>27</td>\n",
       "      <td>4.6</td>\n",
       "    </tr>\n",
       "    <tr>\n",
       "      <th>0</th>\n",
       "      <td>El Golf</td>\n",
       "      <td>-33.41351</td>\n",
       "      <td>-70.59865</td>\n",
       "      <td>1</td>\n",
       "      <td>4</td>\n",
       "      <td>27</td>\n",
       "      <td>4.6</td>\n",
       "    </tr>\n",
       "    <tr>\n",
       "      <th>25</th>\n",
       "      <td>Quinchamali</td>\n",
       "      <td>-33.37002</td>\n",
       "      <td>-70.49770</td>\n",
       "      <td>5</td>\n",
       "      <td>3</td>\n",
       "      <td>6</td>\n",
       "      <td>4.9</td>\n",
       "    </tr>\n",
       "    <tr>\n",
       "      <th>7</th>\n",
       "      <td>Parque Araucano</td>\n",
       "      <td>-33.40248</td>\n",
       "      <td>-70.57284</td>\n",
       "      <td>4</td>\n",
       "      <td>4</td>\n",
       "      <td>18</td>\n",
       "      <td>6.5</td>\n",
       "    </tr>\n",
       "    <tr>\n",
       "      <th>14</th>\n",
       "      <td>Alto Las Condes</td>\n",
       "      <td>-33.39075</td>\n",
       "      <td>-70.54605</td>\n",
       "      <td>1</td>\n",
       "      <td>2</td>\n",
       "      <td>25</td>\n",
       "      <td>7.4</td>\n",
       "    </tr>\n",
       "    <tr>\n",
       "      <th>2</th>\n",
       "      <td>Vaticano</td>\n",
       "      <td>-33.42700</td>\n",
       "      <td>-70.58270</td>\n",
       "      <td>4</td>\n",
       "      <td>4</td>\n",
       "      <td>15</td>\n",
       "      <td>7.6</td>\n",
       "    </tr>\n",
       "    <tr>\n",
       "      <th>18</th>\n",
       "      <td>Padre Hurtado Sur</td>\n",
       "      <td>-33.42283</td>\n",
       "      <td>-70.53781</td>\n",
       "      <td>0</td>\n",
       "      <td>3</td>\n",
       "      <td>2</td>\n",
       "      <td>8.8</td>\n",
       "    </tr>\n",
       "    <tr>\n",
       "      <th>17</th>\n",
       "      <td>Rio Guadiana</td>\n",
       "      <td>-33.41191</td>\n",
       "      <td>-70.53553</td>\n",
       "      <td>2</td>\n",
       "      <td>4</td>\n",
       "      <td>12</td>\n",
       "      <td>9.0</td>\n",
       "    </tr>\n",
       "    <tr>\n",
       "      <th>24</th>\n",
       "      <td>Los Frailes</td>\n",
       "      <td>-33.37630</td>\n",
       "      <td>-70.51291</td>\n",
       "      <td>2</td>\n",
       "      <td>1</td>\n",
       "      <td>10</td>\n",
       "      <td>9.1</td>\n",
       "    </tr>\n",
       "    <tr>\n",
       "      <th>15</th>\n",
       "      <td>Los Dominicos</td>\n",
       "      <td>-33.40799</td>\n",
       "      <td>-70.54378</td>\n",
       "      <td>2</td>\n",
       "      <td>4</td>\n",
       "      <td>11</td>\n",
       "      <td>9.6</td>\n",
       "    </tr>\n",
       "  </tbody>\n",
       "</table>\n",
       "</div>"
      ],
      "text/plain": [
       "                     Neighborhood  Latitude  Longitude  Cluster Labels  \\\n",
       "26                 Camino el Alba -33.40113  -70.52749               0   \n",
       "22  San Carlos de Apoquindo norte -33.38751  -70.50101               0   \n",
       "6               Alonso de Cordova -33.40692  -70.57391               1   \n",
       "13                   Roncesvalles -33.41246  -70.55896               3   \n",
       "9               Alonso de Camargo -33.42135  -70.55833               2   \n",
       "1                       Alcantara -33.42049  -70.58826               1   \n",
       "10                 Rotonda Atenas -33.41802  -70.55301               2   \n",
       "12                Padre Errazuriz -33.40369  -70.55331               1   \n",
       "5                  Plaza del Inca -33.41328  -70.57116               1   \n",
       "0                         El Golf -33.41351  -70.59865               1   \n",
       "25                    Quinchamali -33.37002  -70.49770               5   \n",
       "7                 Parque Araucano -33.40248  -70.57284               4   \n",
       "14                Alto Las Condes -33.39075  -70.54605               1   \n",
       "2                        Vaticano -33.42700  -70.58270               4   \n",
       "18              Padre Hurtado Sur -33.42283  -70.53781               0   \n",
       "17                   Rio Guadiana -33.41191  -70.53553               2   \n",
       "24                    Los Frailes -33.37630  -70.51291               2   \n",
       "15                  Los Dominicos -33.40799  -70.54378               2   \n",
       "\n",
       "    Liquor points  Restaurants  Ratio %  \n",
       "26              0            1      0.0  \n",
       "22              0            2      0.0  \n",
       "6               3           25      1.6  \n",
       "13              6           35      2.1  \n",
       "9               3           13      2.8  \n",
       "1               6           23      3.0  \n",
       "10              3           11      3.1  \n",
       "12              1           24      4.0  \n",
       "5               4           27      4.6  \n",
       "0               4           27      4.6  \n",
       "25              3            6      4.9  \n",
       "7               4           18      6.5  \n",
       "14              2           25      7.4  \n",
       "2               4           15      7.6  \n",
       "18              3            2      8.8  \n",
       "17              4           12      9.0  \n",
       "24              1           10      9.1  \n",
       "15              4           11      9.6  "
      ]
     },
     "execution_count": 39,
     "metadata": {},
     "output_type": "execute_result"
    }
   ],
   "source": [
    "merged2 = merged[merged['Ratio %'] <= 10].sort_values(by=['Ratio %'])\n",
    "merged2"
   ]
  },
  {
   "cell_type": "code",
   "execution_count": 53,
   "metadata": {},
   "outputs": [
    {
     "data": {
      "text/plain": [
       "['Camino el Alba',\n",
       " 'San Carlos de Apoquindo norte',\n",
       " 'Alonso de Cordova',\n",
       " 'Roncesvalles',\n",
       " 'Alonso de Camargo',\n",
       " 'Alcantara',\n",
       " 'Rotonda Atenas',\n",
       " 'Padre Errazuriz',\n",
       " 'Plaza del Inca',\n",
       " 'El Golf',\n",
       " 'Quinchamali',\n",
       " 'Parque Araucano',\n",
       " 'Alto Las Condes',\n",
       " 'Vaticano',\n",
       " 'Padre Hurtado Sur',\n",
       " 'Rio Guadiana',\n",
       " 'Los Frailes',\n",
       " 'Los Dominicos']"
      ]
     },
     "execution_count": 53,
     "metadata": {},
     "output_type": "execute_result"
    }
   ],
   "source": [
    "low = merged2['Neighborhood'].tolist()"
   ]
  },
  {
   "cell_type": "markdown",
   "metadata": {},
   "source": [
    "These neighborhoods are plotted on the heat map that indicates the density of services found in a radius of 800 m from the center of the neighborhood. Based on this, the most convenient areas are analyzed to deepen the analysis by the stakeholders"
   ]
  },
  {
   "cell_type": "code",
   "execution_count": 56,
   "metadata": {
    "scrolled": false
   },
   "outputs": [
    {
     "data": {
      "text/html": [
       "<div style=\"width:100%;\"><div style=\"position:relative;width:100%;height:0;padding-bottom:60%;\"><span style=\"color:#565656\">Make this Notebook Trusted to load map: File -> Trust Notebook</span><iframe src=\"about:blank\" style=\"position:absolute;width:100%;height:100%;left:0;top:0;border:none !important;\" data-html=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 onload=\"this.contentDocument.open();this.contentDocument.write(atob(this.getAttribute('data-html')));this.contentDocument.close();\" allowfullscreen webkitallowfullscreen mozallowfullscreen></iframe></div></div>"
      ],
      "text/plain": [
       "<folium.folium.Map at 0x7fdb91f20f28>"
      ]
     },
     "execution_count": 56,
     "metadata": {},
     "output_type": "execute_result"
    }
   ],
   "source": [
    "total_df1 = LC_venues[(LC_venues['Venue Category'].isin(bars) | LC_venues['Venue Category'].isin(rest)) & LC_venues['Neighborhood'].isin(low)]\n",
    "heat_data1 = [[row['Venue Latitude'],row['Venue Longitude']] for index, row in total_df1.iterrows()]\n",
    "hmap2 = folium.Map(location=[latitude, longitude], zoom_start=13)\n",
    "HeatMap(heat_data1).add_to(hmap2)\n",
    "for lat, lng, neighborhood, r in zip(merged2['Latitude'], merged2['Longitude'], merged2['Neighborhood'], merged2['Ratio %']):\n",
    "    label = '{}, Las Condes  Ratio = {}%'.format(neighborhood,r)\n",
    "    label = folium.Popup(label, parse_html=True)\n",
    "    folium.CircleMarker(\n",
    "        [lat, lng],\n",
    "        radius=5,\n",
    "        popup=label,\n",
    "        color='blue',\n",
    "        fill=True,\n",
    "        fill_color='#3186cc',\n",
    "        fill_opacity=0.7,\n",
    "        parse_html=False).add_to(hmap2)\n",
    "hmap2"
   ]
  },
  {
   "cell_type": "markdown",
   "metadata": {},
   "source": [
    "When considering only the neighborhoods whose ratio is less than 10%, a higher density is once again seen in the northern part of the commune. On the other hand, the southern zone is comparatively much less dense when it comes to restaurants and liquor stores. Based on this, it is proposed that neither of the two extremes is positive for an incoming investor, since there could be a lot of competition or also a lack of clientele. This is why green areas are proposed as those whose balance between the density of services and proximity to the busiest areas is more favorable.\n",
    "\n",
    "From the previous map, the areas **Alcántara, Vatican, Plaza de Inca, Roncesvalles and Río Guadiana** are finally highlighted as more convenient."
   ]
  },
  {
   "cell_type": "markdown",
   "metadata": {},
   "source": [
    "## Results and Discussion <a name=\"results\"></a>"
   ]
  },
  {
   "cell_type": "markdown",
   "metadata": {},
   "source": [
    "Our analysis shows that, although there are a large number of services in the commune of Las Condes (more than 1200 on the surface of Las Condes, whose urban surface is approximately 44 km ^ 2 on the foothills of the Cordillera de Los Andes), there are areas with a low density of restaurants and services, mainly to the east in San Carlos de Apoquindo. The highest concentration of restaurants and liquor stores was detected in the western area of the commune, in the El Golf neighborhood, characterized by its large attendance, workplaces, financial and commercial services, in addition to being located on the axis of Metro line 1 from Santiago, the main transportation hub of the capital.\n",
    "\n",
    "For this reason, we focus our attention on the areas with the lowest density of liquor stores by number of restaurants, corresponding to Los Domínicos, Roncesvalles and Padre Errázuriz. Another district was identified as potentially interesting is Estoril and Quinchamalí, in the eastern part of the commune and with a higher average socioeconomic level, but our attention was focused on the neighborhoods near Av. Apoquindo, since a large part of the micro and Metro passes through there, which facilitates the movement of potential customers, thus offering a combination of accessibility for tourists, proximity to public transport lines, medium-high socioeconomic level and high residential density.\n",
    "\n",
    "After directing our attention to this narrower area of ​​interest (covering approximately 5 km2 located mainly southeast of Av. Apoquindo), a heat map was first created showing the density of restaurants + liquor stores similar to the one presented above, only In this case, the information obtained through the Foursquare API corresponding only to the neighborhoods whose percentage ratio of liquor stores over total services was less than 10% was used. Then, on said map said neighborhoods were plotted, identifying the tonality of the heat map on which said point falls. Based on this, an optimality criterion was defined in terms of the location of a botillería, corresponding to a trade-off between proximity to areas highly dense in services and areas with greater concurrence. Based on this criterion, it was defined that the best areas to locate a liquor store or a bar correspond to those that fall on green areas on the heat map.\n",
    "\n",
    "The preliminary result shows 5 neighborhoods located in the south-central zone of the commune, which are located at a medium distance from the large avenues such as Apoquindo, Vespucio and Tomás Moro.\n",
    "\n",
    "It should be noted that the purpose of this analysis is only to provide information on areas whose relationship between restaurants and liquor stores is suitable for the installation of a new liquor store; It is very possible that there is a very good reason for not installing liquor stores in any of the areas located further south of the commune, for which they have not been able to establish high-attendance areas. A priori it is presumed that the Santiago metro has an important influence on this, reasons why it would make them unsuitable for a new liquor store or bar despite the lack of competition in the area. Therefore, the recommended zones should be considered only as a starting point for a more detailed analysis at street level that could eventually result in a location that not only does not have close competition, but other factors are also taken into account such as existence of parks, proportion of buildings and houses, etc. and all other relevant conditions are met for an investor who wishes to succeed in the sale of alcohol"
   ]
  },
  {
   "cell_type": "markdown",
   "metadata": {},
   "source": [
    "## Conclusion <a name=\"conclusion\"></a>"
   ]
  },
  {
   "cell_type": "markdown",
   "metadata": {},
   "source": [
    "The purpose of this project was to identify areas of the Las Condes commune with a low ratio of liquor stores over total services (defined as liquor stores + bars + supermarkets + restaurants) in order to help interested parties to define the search for a location optimal for a new liquor store or bar.\n",
    "When calculating the density distribution of restaurants, liquor stores and supermarkets from the Foursquare data, we first identified the neighborhoods that best represent the distribution of the commune (26 neighborhoods in total) and then a clustering was performed based on the number of alcohol outlets and restaurants, based on the premise that the Santiaguina population likes to go out to eat and then go to buy an alcoholic beverage to continue celebrating, so that both industries work together.\n",
    "\n",
    "Then, a ratio was generated that identifies each cluster and based on this, areas of high concurrence and services were ruled out as a result of the high competition that exists there. With the above, those neighborhoods whose ratio is less than 10% were filtered and based on an analysis of a heat map of services, a criterion for defining the optimal sites was postulated where it is worth continuing to deepen the study.\n",
    "\n",
    "Stakeholders will make the final decision on the optimal restaurant location based on the specific characteristics of the neighborhoods and locations in each recommended area, taking into account additional factors such as the attractiveness of each location (proximity to parks, number of buildings and houses , and main trade in the area), noise levels / proximity to main roads, rental prices and purchase of facilities, social and economic dynamics of each neighborhood, etc."
   ]
  },
  {
   "cell_type": "code",
   "execution_count": null,
   "metadata": {},
   "outputs": [],
   "source": []
  }
 ],
 "metadata": {
  "kernelspec": {
   "display_name": "Python 3",
   "language": "python",
   "name": "python3"
  },
  "language_info": {
   "codemirror_mode": {
    "name": "ipython",
    "version": 3
   },
   "file_extension": ".py",
   "mimetype": "text/x-python",
   "name": "python",
   "nbconvert_exporter": "python",
   "pygments_lexer": "ipython3",
   "version": "3.7.3"
  }
 },
 "nbformat": 4,
 "nbformat_minor": 2
}
